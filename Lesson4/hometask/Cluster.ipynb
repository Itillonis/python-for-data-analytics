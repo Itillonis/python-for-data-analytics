{
 "cells": [
  {
   "cell_type": "markdown",
   "metadata": {
    "pycharm": {
     "name": "#%% md\n"
    }
   },
   "source": [
    "<h1>Table of Contents<span class=\"tocSkip\"></span></h1>\n",
    "<div class=\"toc\"><ul class=\"toc-item\"><li><span><a href=\"#Задание\" data-toc-modified-id=\"Задание-1\"><span class=\"toc-item-num\">1&nbsp;&nbsp;</span>Задание</a></span><ul class=\"toc-item\"><li><ul class=\"toc-item\"><li><span><a href=\"#Основная-часть\" data-toc-modified-id=\"Основная-часть-1.0.1\"><span class=\"toc-item-num\">1.0.1&nbsp;&nbsp;</span>Основная часть</a></span></li></ul></li></ul></li><li><span><a href=\"#Описания-полей\" data-toc-modified-id=\"Описания-полей-2\"><span class=\"toc-item-num\">2&nbsp;&nbsp;</span>Описания полей</a></span></li></ul></div>"
   ]
  },
  {
   "cell_type": "markdown",
   "metadata": {
    "pycharm": {
     "name": "#%% md\n"
    }
   },
   "source": [
    "# Задание"
   ]
  },
  {
   "cell_type": "markdown",
   "metadata": {
    "pycharm": {
     "name": "#%% md\n"
    }
   },
   "source": [
    "### Основная часть"
   ]
  },
  {
   "cell_type": "markdown",
   "metadata": {
    "pycharm": {
     "name": "#%% md\n"
    }
   },
   "source": [
    "* Проанализируйте и опишите данный датасет, используя все возможные графики из тех, что были на уроке Matplotlib, Seaborn, Plotly\n",
    "* Используйте также описательные статистики\n",
    "* У каждого построенного графика должен быть соответствующий вывод, который описывает наблюдение или инсайт"
   ]
  },
  {
   "cell_type": "markdown",
   "metadata": {
    "pycharm": {
     "name": "#%% md\n"
    }
   },
   "source": [
    "# Описания полей"
   ]
  },
  {
   "cell_type": "markdown",
   "metadata": {
    "pycharm": {
     "name": "#%% md\n"
    }
   },
   "source": [
    "* age\tвозраст\n",
    "* gender\tпол repexc_date\n",
    "* city_type\tТип города проживания клиента\n",
    "* full_mob\tДлительность взаимоотношений с банком\n",
    "\n",
    "* ml_balance\tипотека\n",
    "* cl_balance_0m\tпотребительский кредит\n",
    "* loan_balance_0m\tвсе кредиты\n",
    "\n",
    "* td_balance_0m\tдепозит\n",
    "* casa_balance_0m\tсчета\n",
    "\n",
    "* dc_trx_cnt\tколичество трат по картам\n",
    "* dc_trx_sum\tсумма трат по картам\n",
    "* Avg_trx\tсредний размер транзакции\n",
    "* avgtrx_to_balance\t\n",
    "\n",
    "\n",
    "* min_casa_balance_1q\tпоказатели по счетам за квартал\n",
    "* max_casa_balance_1q\t\n",
    "* avg_casa_balance_1Y\tпоказатели по счетам за год\n",
    "\n",
    "* min_td_balance_1q\t\n",
    "* max_td_balance_1q\t\n",
    "* avg_td_balance_1Y\n",
    "\n",
    "* min_loan_balance_1q\t\n",
    "* max_loan_balance_1q\t\n",
    "* avg_loan_balance_1Y\n",
    "\n",
    "* min_cl_balance_1q\t\n",
    "* max_cl_balance_1q\t\n",
    "* avg_cl_balance_1Y\t\n",
    "* loan_to_deposit\t\n",
    "\n",
    "* income\tдоход клиента\n",
    "* nbi\tдоход от клиента без OPEX"
   ]
  },
  {
   "cell_type": "code",
   "execution_count": 2,
   "metadata": {
    "pycharm": {
     "name": "#%%\n"
    }
   },
   "outputs": [
    {
     "data": {
      "text/html": [
       "<div>\n",
       "<style scoped>\n",
       "    .dataframe tbody tr th:only-of-type {\n",
       "        vertical-align: middle;\n",
       "    }\n",
       "\n",
       "    .dataframe tbody tr th {\n",
       "        vertical-align: top;\n",
       "    }\n",
       "\n",
       "    .dataframe thead th {\n",
       "        text-align: right;\n",
       "    }\n",
       "</style>\n",
       "<table border=\"1\" class=\"dataframe\">\n",
       "  <thead>\n",
       "    <tr style=\"text-align: right;\">\n",
       "      <th></th>\n",
       "      <th>age</th>\n",
       "      <th>gender</th>\n",
       "      <th>city_type</th>\n",
       "      <th>full_mob</th>\n",
       "      <th>ml_balance</th>\n",
       "      <th>cl_balance_0m</th>\n",
       "      <th>loan_balance_0m</th>\n",
       "      <th>td_balance_0m</th>\n",
       "      <th>casa_balance_0m</th>\n",
       "      <th>dc_trx_cnt</th>\n",
       "      <th>...</th>\n",
       "      <th>min_loan_balance_1q</th>\n",
       "      <th>max_loan_balance_1q</th>\n",
       "      <th>avg_loan_balance_1Y</th>\n",
       "      <th>min_cl_balance_1q</th>\n",
       "      <th>max_cl_balance_1q</th>\n",
       "      <th>avg_cl_balance_1Y</th>\n",
       "      <th>loan_to_deposit</th>\n",
       "      <th>Avg_trx</th>\n",
       "      <th>avgtrx_to_balance</th>\n",
       "      <th>nbi</th>\n",
       "    </tr>\n",
       "  </thead>\n",
       "  <tbody>\n",
       "    <tr>\n",
       "      <th>0</th>\n",
       "      <td>71</td>\n",
       "      <td>NaN</td>\n",
       "      <td>&lt;100</td>\n",
       "      <td>103</td>\n",
       "      <td>0.0</td>\n",
       "      <td>0.0</td>\n",
       "      <td>0.0</td>\n",
       "      <td>0.0</td>\n",
       "      <td>0.0000</td>\n",
       "      <td>0</td>\n",
       "      <td>...</td>\n",
       "      <td>0.0</td>\n",
       "      <td>0.0</td>\n",
       "      <td>0.0</td>\n",
       "      <td>0.0</td>\n",
       "      <td>0.0</td>\n",
       "      <td>0.0</td>\n",
       "      <td>NaN</td>\n",
       "      <td>NaN</td>\n",
       "      <td>NaN</td>\n",
       "      <td>NaN</td>\n",
       "    </tr>\n",
       "    <tr>\n",
       "      <th>1</th>\n",
       "      <td>49</td>\n",
       "      <td>NaN</td>\n",
       "      <td>Mega</td>\n",
       "      <td>81</td>\n",
       "      <td>0.0</td>\n",
       "      <td>0.0</td>\n",
       "      <td>0.0</td>\n",
       "      <td>0.0</td>\n",
       "      <td>3272.9367</td>\n",
       "      <td>0</td>\n",
       "      <td>...</td>\n",
       "      <td>0.0</td>\n",
       "      <td>0.0</td>\n",
       "      <td>0.0</td>\n",
       "      <td>0.0</td>\n",
       "      <td>0.0</td>\n",
       "      <td>0.0</td>\n",
       "      <td>NaN</td>\n",
       "      <td>NaN</td>\n",
       "      <td>NaN</td>\n",
       "      <td>28.762952</td>\n",
       "    </tr>\n",
       "    <tr>\n",
       "      <th>2</th>\n",
       "      <td>56</td>\n",
       "      <td>NaN</td>\n",
       "      <td>Mega</td>\n",
       "      <td>81</td>\n",
       "      <td>0.0</td>\n",
       "      <td>0.0</td>\n",
       "      <td>0.0</td>\n",
       "      <td>0.0</td>\n",
       "      <td>6249.7550</td>\n",
       "      <td>6</td>\n",
       "      <td>...</td>\n",
       "      <td>0.0</td>\n",
       "      <td>0.0</td>\n",
       "      <td>0.0</td>\n",
       "      <td>0.0</td>\n",
       "      <td>0.0</td>\n",
       "      <td>0.0</td>\n",
       "      <td>NaN</td>\n",
       "      <td>854.67</td>\n",
       "      <td>0.083467</td>\n",
       "      <td>1973.335539</td>\n",
       "    </tr>\n",
       "    <tr>\n",
       "      <th>3</th>\n",
       "      <td>47</td>\n",
       "      <td>NaN</td>\n",
       "      <td>Mega</td>\n",
       "      <td>81</td>\n",
       "      <td>0.0</td>\n",
       "      <td>0.0</td>\n",
       "      <td>0.0</td>\n",
       "      <td>0.0</td>\n",
       "      <td>14354.9370</td>\n",
       "      <td>0</td>\n",
       "      <td>...</td>\n",
       "      <td>0.0</td>\n",
       "      <td>0.0</td>\n",
       "      <td>0.0</td>\n",
       "      <td>0.0</td>\n",
       "      <td>0.0</td>\n",
       "      <td>0.0</td>\n",
       "      <td>NaN</td>\n",
       "      <td>NaN</td>\n",
       "      <td>NaN</td>\n",
       "      <td>364.008556</td>\n",
       "    </tr>\n",
       "    <tr>\n",
       "      <th>4</th>\n",
       "      <td>74</td>\n",
       "      <td>NaN</td>\n",
       "      <td>Mega</td>\n",
       "      <td>81</td>\n",
       "      <td>0.0</td>\n",
       "      <td>0.0</td>\n",
       "      <td>0.0</td>\n",
       "      <td>0.0</td>\n",
       "      <td>91511.7691</td>\n",
       "      <td>0</td>\n",
       "      <td>...</td>\n",
       "      <td>0.0</td>\n",
       "      <td>0.0</td>\n",
       "      <td>0.0</td>\n",
       "      <td>0.0</td>\n",
       "      <td>0.0</td>\n",
       "      <td>0.0</td>\n",
       "      <td>NaN</td>\n",
       "      <td>NaN</td>\n",
       "      <td>NaN</td>\n",
       "      <td>6651.416562</td>\n",
       "    </tr>\n",
       "  </tbody>\n",
       "</table>\n",
       "<p>5 rows × 28 columns</p>\n",
       "</div>"
      ],
      "text/plain": [
       "   age gender city_type  full_mob  ml_balance  cl_balance_0m  loan_balance_0m  \\\n",
       "0   71    NaN      <100       103         0.0            0.0              0.0   \n",
       "1   49    NaN      Mega        81         0.0            0.0              0.0   \n",
       "2   56    NaN      Mega        81         0.0            0.0              0.0   \n",
       "3   47    NaN      Mega        81         0.0            0.0              0.0   \n",
       "4   74    NaN      Mega        81         0.0            0.0              0.0   \n",
       "\n",
       "   td_balance_0m  casa_balance_0m  dc_trx_cnt  ...  min_loan_balance_1q  \\\n",
       "0            0.0           0.0000           0  ...                  0.0   \n",
       "1            0.0        3272.9367           0  ...                  0.0   \n",
       "2            0.0        6249.7550           6  ...                  0.0   \n",
       "3            0.0       14354.9370           0  ...                  0.0   \n",
       "4            0.0       91511.7691           0  ...                  0.0   \n",
       "\n",
       "   max_loan_balance_1q  avg_loan_balance_1Y  min_cl_balance_1q  \\\n",
       "0                  0.0                  0.0                0.0   \n",
       "1                  0.0                  0.0                0.0   \n",
       "2                  0.0                  0.0                0.0   \n",
       "3                  0.0                  0.0                0.0   \n",
       "4                  0.0                  0.0                0.0   \n",
       "\n",
       "   max_cl_balance_1q  avg_cl_balance_1Y  loan_to_deposit  Avg_trx  \\\n",
       "0                0.0                0.0              NaN      NaN   \n",
       "1                0.0                0.0              NaN      NaN   \n",
       "2                0.0                0.0              NaN   854.67   \n",
       "3                0.0                0.0              NaN      NaN   \n",
       "4                0.0                0.0              NaN      NaN   \n",
       "\n",
       "   avgtrx_to_balance          nbi  \n",
       "0                NaN          NaN  \n",
       "1                NaN    28.762952  \n",
       "2           0.083467  1973.335539  \n",
       "3                NaN   364.008556  \n",
       "4                NaN  6651.416562  \n",
       "\n",
       "[5 rows x 28 columns]"
      ]
     },
     "execution_count": 2,
     "metadata": {},
     "output_type": "execute_result"
    }
   ],
   "source": [
    "%matplotlib inline\n",
    "import pandas as pd\n",
    "import matplotlib.pyplot as plt\n",
    "import seaborn as sns\n",
    "import numpy as np\n",
    "from scipy import stats\n",
    "from tqdm.auto import tqdm\n",
    "import plotly.express as px"
   ]
  },
  {
   "cell_type": "code",
   "execution_count": 3,
   "metadata": {
    "scrolled": true,
    "pycharm": {
     "name": "#%%\n"
    }
   },
   "outputs": [
    {
     "name": "stdout",
     "output_type": "stream",
     "text": [
      "<class 'pandas.core.frame.DataFrame'>\n",
      "RangeIndex: 50000 entries, 0 to 49999\n",
      "Data columns (total 28 columns):\n",
      " #   Column               Non-Null Count  Dtype  \n",
      "---  ------               --------------  -----  \n",
      " 0   age                  50000 non-null  int64  \n",
      " 1   gender               49277 non-null  object \n",
      " 2   city_type            50000 non-null  object \n",
      " 3   full_mob             50000 non-null  int64  \n",
      " 4   ml_balance           50000 non-null  float64\n",
      " 5   cl_balance_0m        50000 non-null  float64\n",
      " 6   loan_balance_0m      50000 non-null  float64\n",
      " 7   td_balance_0m        50000 non-null  float64\n",
      " 8   casa_balance_0m      50000 non-null  float64\n",
      " 9   dc_trx_cnt           50000 non-null  int64  \n",
      " 10  dc_trx_sum           50000 non-null  float64\n",
      " 11  income               50000 non-null  float64\n",
      " 12  min_casa_balance_1q  50000 non-null  float64\n",
      " 13  max_casa_balance_1q  50000 non-null  float64\n",
      " 14  avg_casa_balance_1Y  50000 non-null  float64\n",
      " 15  min_td_balance_1q    50000 non-null  float64\n",
      " 16  max_td_balance_1q    50000 non-null  float64\n",
      " 17  avg_td_balance_1Y    50000 non-null  float64\n",
      " 18  min_loan_balance_1q  50000 non-null  float64\n",
      " 19  max_loan_balance_1q  50000 non-null  float64\n",
      " 20  avg_loan_balance_1Y  50000 non-null  float64\n",
      " 21  min_cl_balance_1q    50000 non-null  float64\n",
      " 22  max_cl_balance_1q    50000 non-null  float64\n",
      " 23  avg_cl_balance_1Y    50000 non-null  float64\n",
      " 24  loan_to_deposit      3820 non-null   float64\n",
      " 25  Avg_trx              32128 non-null  float64\n",
      " 26  avgtrx_to_balance    31515 non-null  float64\n",
      " 27  nbi                  47569 non-null  float64\n",
      "dtypes: float64(23), int64(3), object(2)\n",
      "memory usage: 10.7+ MB\n"
     ]
    }
   ],
   "source": [
    "df = pd.read_csv('test_cluster.csv', encoding='cp1251', sep=';')\n",
    "df.head()"
   ]
  },
  {
   "cell_type": "code",
   "execution_count": null,
   "metadata": {
    "pycharm": {
     "name": "#%%\n"
    }
   },
   "outputs": [],
   "source": [
    "df.info()"
   ]
  },
  {
   "cell_type": "code",
   "execution_count": null,
   "outputs": [],
   "source": [
    "new_df = pd.concat([df.min(), df.mean(), df.max(), df.quantile(q=0.95, axis=0)], axis = 1)\n",
    "new_df"
   ],
   "metadata": {
    "collapsed": false,
    "pycharm": {
     "name": "#%%\n"
    }
   }
  },
  {
   "cell_type": "code",
   "execution_count": null,
   "outputs": [],
   "source": [
    "df_lesser = df[df['Avg_trx']<df['Avg_trx'].quantile(q=0.95)]\n",
    "fig = px.scatter(df_lesser, x=\"dc_trx_cnt\", y=\"Avg_trx\", color = \"city_type\")\n",
    "fig.show()"
   ],
   "metadata": {
    "collapsed": false,
    "pycharm": {
     "name": "#%%\n"
    }
   }
  },
  {
   "cell_type": "markdown",
   "source": [
    "На этом графике видно зависимость средней суммы операций от их количества. Можно сделать вывод, что к крупным расходам более склонны люди, которые совершают меньше операций. А для людей, которые регулярно пользуются картами, такие крупные траты (больше 50000) нетипичны. Ярко выраженной зависимости трат от города проживания клиента нет."
   ],
   "metadata": {
    "collapsed": false
   }
  },
  {
   "cell_type": "code",
   "execution_count": null,
   "outputs": [],
   "source": [
    "fig = px.bar(df, x=\"age\", y=\"nbi\")\n",
    "fig.show()"
   ],
   "metadata": {
    "collapsed": false,
    "pycharm": {
     "name": "#%%\n"
    }
   }
  },
  {
   "cell_type": "markdown",
   "source": [
    "На этом графике можно оценить, какую прибыль приносят банку клиенты разных возрастов. Большая часть доходов поступает от группы клиентов от 30 до 50 лет, дальше заметно снижается. При этом отдельные пики можно видеть и среди возрастов больше 50, но они обусловлены как правило влиянием небольшой группы клиентов"
   ],
   "metadata": {
    "collapsed": false
   }
  },
  {
   "cell_type": "code",
   "execution_count": null,
   "outputs": [],
   "source": [
    "fig = px.violin(df[(df['avg_casa_balance_1Y']<df['avg_casa_balance_1Y'].quantile(q=0.95))&(df['gender'].notnull())], y=\"avg_casa_balance_1Y\", x=\"city_type\", color=\"gender\", box=True, points=\"all\", hover_data=['gender','city_type','avg_casa_balance_1Y'])\n",
    "fig.show()"
   ],
   "metadata": {
    "collapsed": false,
    "pycharm": {
     "name": "#%%\n"
    }
   }
  },
  {
   "cell_type": "markdown",
   "source": [
    "На этом графике видим среднюю сумму на счетах клиентов в зависимости от пола и города. Основная тенденция, которую можно выявить из этого графика - большое сосредоточение клиентов около значений от 0 до 10-11 тысяч, после чего стабильное уменьшение. В целом графики выглядят похоже, как среди разных полов, так и вреди разных городов. Стоит выделить города типа Mega, в них суммы распределены более равномерно, средние значения смещены в сторону 20 тысяч."
   ],
   "metadata": {
    "collapsed": false
   }
  }
 ],
 "metadata": {
  "kernelspec": {
   "display_name": "Python 3",
   "language": "python",
   "name": "python3"
  },
  "language_info": {
   "codemirror_mode": {
    "name": "ipython",
    "version": 3
   },
   "file_extension": ".py",
   "mimetype": "text/x-python",
   "name": "python",
   "nbconvert_exporter": "python",
   "pygments_lexer": "ipython3",
   "version": "3.8.5"
  }
 },
 "nbformat": 4,
 "nbformat_minor": 4
}