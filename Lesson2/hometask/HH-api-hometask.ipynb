{
 "cells": [
  {
   "cell_type": "markdown",
   "metadata": {
    "pycharm": {
     "name": "#%% md\n"
    }
   },
   "source": [
    "[![Open In Colab](https://colab.research.google.com/assets/colab-badge.svg)](https://colab.research.google.com/github/da-python/python-for-data-analytics/blob/main/Lesson2/hometask/HH-api-hometask.ipynb)"
   ]
  },
  {
   "cell_type": "markdown",
   "metadata": {
    "pycharm": {
     "name": "#%% md\n"
    }
   },
   "source": [
    "# Задание\n",
    "* Скачать все вакансии СБЕРа с ХХ (у апи есть ограничение в 2000, а также captcha подумайте как их можно обойти)\n",
    "* Извлеките все описания этих вакансий\n",
    "* Создайте аналогичный vacancy DataFrame только добавьте поле skills\n",
    "* Переведите даты публикаций в datetime\n",
    "* Постройте график опубликованных вакансий по датам\n",
    "* Переведите даты в дни недели, и определите день недели, в который больше всего публикуют вакансий\n",
    "* Найдите те вакансии с использованием python, которые вам интересны\n",
    "* Определите по полю skills какие навыки больше всего востребованы для этих вакансий\n",
    "* Постройте график наиболее востребованных навыков для аналитика данных"
   ]
  },
  {
   "cell_type": "markdown",
   "metadata": {
    "pycharm": {
     "name": "#%% md\n"
    }
   },
   "source": [
    "https://github.com/hhru/api"
   ]
  },
  {
   "cell_type": "code",
   "execution_count": 1,
   "metadata": {
    "pycharm": {
     "name": "#%%\n"
    }
   },
   "outputs": [],
   "source": [
    "import requests\n",
    "import json\n",
    "from tqdm.auto import tqdm\n",
    "from collections import defaultdict\n",
    "import pickle\n",
    "import pandas as pd"
   ]
  },
  {
   "cell_type": "code",
   "execution_count": 2,
   "metadata": {
    "pycharm": {
     "name": "#%%\n"
    }
   },
   "outputs": [],
   "source": [
    "pars = {\n",
    "    \"employer_id\": '3529',\n",
    "    \"page\": 1,\n",
    "    \"per_page\": 100\n",
    "}\n",
    "url = f'https://api.hh.ru/vacancies'"
   ]
  },
  {
   "cell_type": "code",
   "execution_count": 3,
   "metadata": {
    "pycharm": {
     "name": "#%%\n"
    }
   },
   "outputs": [],
   "source": [
    "res = requests.get(url, params=pars)"
   ]
  },
  {
   "cell_type": "code",
   "execution_count": 4,
   "metadata": {
    "pycharm": {
     "name": "#%%\n"
    }
   },
   "outputs": [
    {
     "data": {
      "text/plain": [
       "dict_keys(['items', 'found', 'pages', 'per_page', 'page', 'clusters', 'arguments', 'alternate_url'])"
      ]
     },
     "execution_count": 4,
     "metadata": {},
     "output_type": "execute_result"
    }
   ],
   "source": [
    "res.json().keys()"
   ]
  },
  {
   "cell_type": "code",
   "execution_count": 5,
   "metadata": {
    "pycharm": {
     "name": "#%%\n"
    }
   },
   "outputs": [
    {
     "data": {
      "text/plain": [
       "20"
      ]
     },
     "execution_count": 5,
     "metadata": {},
     "output_type": "execute_result"
    }
   ],
   "source": [
    "vacancies = res.json()\n",
    "err=vacancies.get('errors')\n",
    "num_pages = vacancies.get('pages')\n",
    "num_pages"
   ]
  },
  {
   "cell_type": "code",
   "execution_count": 6,
   "metadata": {
    "pycharm": {
     "name": "#%%\n"
    }
   },
   "outputs": [],
   "source": [
    "v = vacancies.get('items')"
   ]
  },
  {
   "cell_type": "code",
   "execution_count": 68,
   "metadata": {
    "pycharm": {
     "name": "#%%\n"
    }
   },
   "outputs": [
    {
     "data": {
      "text/plain": [
       "{'id': '67908794',\n",
       " 'premium': False,\n",
       " 'name': 'Стажер Sber AI Lab',\n",
       " 'department': {'id': '3529-3529-it', 'name': 'Сбер. IT'},\n",
       " 'has_test': False,\n",
       " 'response_letter_required': False,\n",
       " 'area': {'id': '1', 'name': 'Москва', 'url': 'https://api.hh.ru/areas/1'},\n",
       " 'salary': {'from': 55000, 'to': 57000, 'currency': 'RUR', 'gross': True},\n",
       " 'type': {'id': 'open', 'name': 'Открытая'},\n",
       " 'address': {'city': 'Москва',\n",
       "  'street': 'Кутузовский проспект',\n",
       "  'building': '32',\n",
       "  'description': None,\n",
       "  'lat': 55.740426,\n",
       "  'lng': 37.532071,\n",
       "  'raw': 'Москва, Кутузовский проспект, 32',\n",
       "  'metro': None,\n",
       "  'metro_stations': [],\n",
       "  'id': '6080840'},\n",
       " 'response_url': None,\n",
       " 'sort_point_distance': None,\n",
       " 'published_at': '2022-07-19T11:32:28+0300',\n",
       " 'created_at': '2022-07-19T11:32:28+0300',\n",
       " 'archived': False,\n",
       " 'apply_alternate_url': 'https://hh.ru/applicant/vacancy_response?vacancyId=67908794',\n",
       " 'insider_interview': None,\n",
       " 'url': 'https://api.hh.ru/vacancies/67908794?host=hh.ru',\n",
       " 'adv_response_url': 'https://api.hh.ru/vacancies/67908794/adv_response?host=hh.ru',\n",
       " 'alternate_url': 'https://hh.ru/vacancy/67908794',\n",
       " 'relations': [],\n",
       " 'employer': {'id': '3529',\n",
       "  'name': 'СБЕР',\n",
       "  'url': 'https://api.hh.ru/employers/3529',\n",
       "  'alternate_url': 'https://hh.ru/employer/3529',\n",
       "  'logo_urls': {'original': 'https://hhcdn.ru/employer-logo-original/868362.JPG',\n",
       "   '90': 'https://hhcdn.ru/employer-logo/3914323.jpeg',\n",
       "   '240': 'https://hhcdn.ru/employer-logo/3914324.jpeg'},\n",
       "  'vacancies_url': 'https://api.hh.ru/vacancies?employer_id=3529',\n",
       "  'trusted': True},\n",
       " 'snippet': {'requirement': 'Имеешь хорошие знания математики и алгоритмов. Умеешь писать на python и хорошо знаком со стандартными библиотеками(pandas, numpy, sklearn, pytorch...',\n",
       "  'responsibility': 'У тебя есть публикации в ведущих научных конференциях и журналах. Участвовал в DS соревнованиях Kaggle и пр.. Любишь изучать новые...'},\n",
       " 'contacts': None,\n",
       " 'schedule': {'id': 'fullDay', 'name': 'Полный день'},\n",
       " 'working_days': [],\n",
       " 'working_time_intervals': [],\n",
       " 'working_time_modes': [],\n",
       " 'accept_temporary': False}"
      ]
     },
     "execution_count": 68,
     "metadata": {},
     "output_type": "execute_result"
    }
   ],
   "source": [
    "v[4]"
   ]
  },
  {
   "cell_type": "code",
   "execution_count": 8,
   "metadata": {
    "pycharm": {
     "name": "#%%\n"
    }
   },
   "outputs": [
    {
     "data": {
      "text/plain": [
       "dict_keys(['items', 'found', 'pages', 'per_page', 'page', 'clusters', 'arguments', 'alternate_url'])"
      ]
     },
     "execution_count": 8,
     "metadata": {},
     "output_type": "execute_result"
    }
   ],
   "source": [
    "vacancies.keys()"
   ]
  },
  {
   "cell_type": "code",
   "execution_count": 9,
   "metadata": {
    "pycharm": {
     "name": "#%%\n"
    }
   },
   "outputs": [],
   "source": [
    "vacancies = res.json()\n",
    "num_pages = vacancies.get('pages')\n",
    "vacancy_ids = [el.get('id') for el in vacancies.get('items')]"
   ]
  },
  {
   "cell_type": "code",
   "execution_count": 10,
   "metadata": {
    "pycharm": {
     "name": "#%%\n"
    }
   },
   "outputs": [
    {
     "data": {
      "text/plain": [
       "dict_keys(['items', 'found', 'pages', 'per_page', 'page', 'clusters', 'arguments', 'alternate_url'])"
      ]
     },
     "execution_count": 10,
     "metadata": {},
     "output_type": "execute_result"
    }
   ],
   "source": [
    "vacancies.keys()"
   ]
  },
  {
   "cell_type": "code",
   "execution_count": 11,
   "metadata": {
    "pycharm": {
     "name": "#%%\n"
    }
   },
   "outputs": [
    {
     "data": {
      "text/plain": [
       "20"
      ]
     },
     "execution_count": 11,
     "metadata": {},
     "output_type": "execute_result"
    }
   ],
   "source": [
    "vnum  = vacancies.get('pages')\n",
    "vnum"
   ]
  },
  {
   "cell_type": "code",
   "execution_count": 12,
   "metadata": {
    "pycharm": {
     "name": "#%%\n"
    }
   },
   "outputs": [
    {
     "data": {
      "application/vnd.jupyter.widget-view+json": {
       "model_id": "df0b316f08054ece94e9d17c8a39e03e",
       "version_major": 2,
       "version_minor": 0
      },
      "text/plain": [
       "  0%|          | 0/20 [00:00<?, ?it/s]"
      ]
     },
     "metadata": {},
     "output_type": "display_data"
    }
   ],
   "source": [
    "all_vacancy_ids = []\n",
    "all_vacancies = []\n",
    "for i in tqdm(range(vnum)):\n",
    "    url = f'https://api.hh.ru/vacancies'\n",
    "    res = requests.get(url, params=pars)\n",
    "    vacancies = res.json()\n",
    "    all_vacancies.extend(vacancies.get('items'))\n",
    "    vacancy_ids = [el.get('id') for el in vacancies.get('items')]\n",
    "    all_vacancy_ids.extend(vacancy_ids)"
   ]
  },
  {
   "cell_type": "code",
   "execution_count": 13,
   "metadata": {
    "pycharm": {
     "name": "#%%\n"
    }
   },
   "outputs": [
    {
     "data": {
      "text/plain": [
       "2000"
      ]
     },
     "execution_count": 13,
     "metadata": {},
     "output_type": "execute_result"
    }
   ],
   "source": [
    "len(all_vacancy_ids)\n",
    "#https://api.hh.ru/vacancies/66634517"
   ]
  },
  {
   "cell_type": "code",
   "execution_count": 14,
   "metadata": {
    "pycharm": {
     "name": "#%%\n"
    }
   },
   "outputs": [],
   "source": [
    "url = f'https://api.hh.ru/vacancies/{all_vacancy_ids[0]}'"
   ]
  },
  {
   "cell_type": "code",
   "execution_count": 15,
   "metadata": {
    "pycharm": {
     "name": "#%%\n"
    }
   },
   "outputs": [],
   "source": [
    "res = requests.get(url)"
   ]
  },
  {
   "cell_type": "code",
   "execution_count": 16,
   "metadata": {
    "pycharm": {
     "name": "#%%\n"
    }
   },
   "outputs": [
    {
     "data": {
      "text/plain": [
       "[]"
      ]
     },
     "execution_count": 16,
     "metadata": {},
     "output_type": "execute_result"
    }
   ],
   "source": [
    "res.json().get('key_skills')"
   ]
  },
  {
   "cell_type": "code",
   "execution_count": 69,
   "metadata": {
    "pycharm": {
     "name": "#%%\n"
    }
   },
   "outputs": [
    {
     "data": {
      "text/html": [
       "<div>\n",
       "<style scoped>\n",
       "    .dataframe tbody tr th:only-of-type {\n",
       "        vertical-align: middle;\n",
       "    }\n",
       "\n",
       "    .dataframe tbody tr th {\n",
       "        vertical-align: top;\n",
       "    }\n",
       "\n",
       "    .dataframe thead th {\n",
       "        text-align: right;\n",
       "    }\n",
       "</style>\n",
       "<table border=\"1\" class=\"dataframe\">\n",
       "  <thead>\n",
       "    <tr style=\"text-align: right;\">\n",
       "      <th></th>\n",
       "      <th>id</th>\n",
       "      <th>premium</th>\n",
       "      <th>name</th>\n",
       "      <th>has_test</th>\n",
       "      <th>response_letter_required</th>\n",
       "      <th>address</th>\n",
       "      <th>response_url</th>\n",
       "      <th>sort_point_distance</th>\n",
       "      <th>published_at</th>\n",
       "      <th>created_at</th>\n",
       "      <th>...</th>\n",
       "      <th>address.metro.station_name</th>\n",
       "      <th>address.metro.line_name</th>\n",
       "      <th>address.metro.station_id</th>\n",
       "      <th>address.metro.line_id</th>\n",
       "      <th>address.metro.lat</th>\n",
       "      <th>address.metro.lng</th>\n",
       "      <th>address.metro_stations</th>\n",
       "      <th>address.id</th>\n",
       "      <th>salary</th>\n",
       "      <th>address.metro</th>\n",
       "    </tr>\n",
       "  </thead>\n",
       "  <tbody>\n",
       "    <tr>\n",
       "      <th>0</th>\n",
       "      <td>67879831</td>\n",
       "      <td>False</td>\n",
       "      <td>Старший клиентский менеджер</td>\n",
       "      <td>False</td>\n",
       "      <td>False</td>\n",
       "      <td>NaN</td>\n",
       "      <td>None</td>\n",
       "      <td>None</td>\n",
       "      <td>2022-07-18T15:39:36+0300</td>\n",
       "      <td>2022-07-18T15:39:36+0300</td>\n",
       "      <td>...</td>\n",
       "      <td>NaN</td>\n",
       "      <td>NaN</td>\n",
       "      <td>NaN</td>\n",
       "      <td>NaN</td>\n",
       "      <td>NaN</td>\n",
       "      <td>NaN</td>\n",
       "      <td>NaN</td>\n",
       "      <td>NaN</td>\n",
       "      <td>NaN</td>\n",
       "      <td>NaN</td>\n",
       "    </tr>\n",
       "    <tr>\n",
       "      <th>1</th>\n",
       "      <td>67536591</td>\n",
       "      <td>False</td>\n",
       "      <td>Ведущий конструктор в Центр Робототехники</td>\n",
       "      <td>False</td>\n",
       "      <td>False</td>\n",
       "      <td>NaN</td>\n",
       "      <td>None</td>\n",
       "      <td>None</td>\n",
       "      <td>2022-07-06T12:41:40+0300</td>\n",
       "      <td>2022-07-06T12:41:40+0300</td>\n",
       "      <td>...</td>\n",
       "      <td>Кутузовская</td>\n",
       "      <td>МЦК</td>\n",
       "      <td>95.536</td>\n",
       "      <td>95</td>\n",
       "      <td>55.740833</td>\n",
       "      <td>37.533333</td>\n",
       "      <td>[{'station_name': 'Кутузовская', 'line_name': ...</td>\n",
       "      <td>823806</td>\n",
       "      <td>NaN</td>\n",
       "      <td>NaN</td>\n",
       "    </tr>\n",
       "    <tr>\n",
       "      <th>2</th>\n",
       "      <td>68011820</td>\n",
       "      <td>False</td>\n",
       "      <td>Стажер DevOps</td>\n",
       "      <td>False</td>\n",
       "      <td>False</td>\n",
       "      <td>NaN</td>\n",
       "      <td>None</td>\n",
       "      <td>None</td>\n",
       "      <td>2022-07-21T08:23:59+0300</td>\n",
       "      <td>2022-07-21T08:23:59+0300</td>\n",
       "      <td>...</td>\n",
       "      <td>NaN</td>\n",
       "      <td>NaN</td>\n",
       "      <td>NaN</td>\n",
       "      <td>NaN</td>\n",
       "      <td>NaN</td>\n",
       "      <td>NaN</td>\n",
       "      <td>NaN</td>\n",
       "      <td>NaN</td>\n",
       "      <td>NaN</td>\n",
       "      <td>NaN</td>\n",
       "    </tr>\n",
       "    <tr>\n",
       "      <th>3</th>\n",
       "      <td>67470523</td>\n",
       "      <td>False</td>\n",
       "      <td>Менеджер по работе с ключевыми клиентами малог...</td>\n",
       "      <td>False</td>\n",
       "      <td>False</td>\n",
       "      <td>NaN</td>\n",
       "      <td>None</td>\n",
       "      <td>None</td>\n",
       "      <td>2022-07-04T17:18:35+0300</td>\n",
       "      <td>2022-07-04T17:18:35+0300</td>\n",
       "      <td>...</td>\n",
       "      <td>NaN</td>\n",
       "      <td>NaN</td>\n",
       "      <td>NaN</td>\n",
       "      <td>NaN</td>\n",
       "      <td>NaN</td>\n",
       "      <td>NaN</td>\n",
       "      <td>NaN</td>\n",
       "      <td>NaN</td>\n",
       "      <td>NaN</td>\n",
       "      <td>NaN</td>\n",
       "    </tr>\n",
       "    <tr>\n",
       "      <th>4</th>\n",
       "      <td>67908794</td>\n",
       "      <td>False</td>\n",
       "      <td>Стажер Sber AI Lab</td>\n",
       "      <td>False</td>\n",
       "      <td>False</td>\n",
       "      <td>NaN</td>\n",
       "      <td>None</td>\n",
       "      <td>None</td>\n",
       "      <td>2022-07-19T11:32:28+0300</td>\n",
       "      <td>2022-07-19T11:32:28+0300</td>\n",
       "      <td>...</td>\n",
       "      <td>NaN</td>\n",
       "      <td>NaN</td>\n",
       "      <td>NaN</td>\n",
       "      <td>NaN</td>\n",
       "      <td>NaN</td>\n",
       "      <td>NaN</td>\n",
       "      <td>[]</td>\n",
       "      <td>6080840</td>\n",
       "      <td>NaN</td>\n",
       "      <td>NaN</td>\n",
       "    </tr>\n",
       "  </tbody>\n",
       "</table>\n",
       "<p>5 rows × 63 columns</p>\n",
       "</div>"
      ],
      "text/plain": [
       "         id  premium                                               name  \\\n",
       "0  67879831    False                        Старший клиентский менеджер   \n",
       "1  67536591    False          Ведущий конструктор в Центр Робототехники   \n",
       "2  68011820    False                                      Стажер DevOps   \n",
       "3  67470523    False  Менеджер по работе с ключевыми клиентами малог...   \n",
       "4  67908794    False                                 Стажер Sber AI Lab   \n",
       "\n",
       "   has_test  response_letter_required  address response_url  \\\n",
       "0     False                     False      NaN         None   \n",
       "1     False                     False      NaN         None   \n",
       "2     False                     False      NaN         None   \n",
       "3     False                     False      NaN         None   \n",
       "4     False                     False      NaN         None   \n",
       "\n",
       "  sort_point_distance              published_at                created_at  \\\n",
       "0                None  2022-07-18T15:39:36+0300  2022-07-18T15:39:36+0300   \n",
       "1                None  2022-07-06T12:41:40+0300  2022-07-06T12:41:40+0300   \n",
       "2                None  2022-07-21T08:23:59+0300  2022-07-21T08:23:59+0300   \n",
       "3                None  2022-07-04T17:18:35+0300  2022-07-04T17:18:35+0300   \n",
       "4                None  2022-07-19T11:32:28+0300  2022-07-19T11:32:28+0300   \n",
       "\n",
       "   ...  address.metro.station_name address.metro.line_name  \\\n",
       "0  ...                         NaN                     NaN   \n",
       "1  ...                 Кутузовская                     МЦК   \n",
       "2  ...                         NaN                     NaN   \n",
       "3  ...                         NaN                     NaN   \n",
       "4  ...                         NaN                     NaN   \n",
       "\n",
       "  address.metro.station_id address.metro.line_id address.metro.lat  \\\n",
       "0                      NaN                   NaN               NaN   \n",
       "1                   95.536                    95         55.740833   \n",
       "2                      NaN                   NaN               NaN   \n",
       "3                      NaN                   NaN               NaN   \n",
       "4                      NaN                   NaN               NaN   \n",
       "\n",
       "  address.metro.lng                             address.metro_stations  \\\n",
       "0               NaN                                                NaN   \n",
       "1         37.533333  [{'station_name': 'Кутузовская', 'line_name': ...   \n",
       "2               NaN                                                NaN   \n",
       "3               NaN                                                NaN   \n",
       "4               NaN                                                 []   \n",
       "\n",
       "  address.id salary address.metro  \n",
       "0        NaN    NaN           NaN  \n",
       "1     823806    NaN           NaN  \n",
       "2        NaN    NaN           NaN  \n",
       "3        NaN    NaN           NaN  \n",
       "4    6080840    NaN           NaN  \n",
       "\n",
       "[5 rows x 63 columns]"
      ]
     },
     "execution_count": 69,
     "metadata": {},
     "output_type": "execute_result"
    }
   ],
   "source": [
    "vac_table = pd.json_normalize(all_vacancies)\n",
    "vac_table.head(5)"
   ]
  },
  {
   "cell_type": "code",
   "execution_count": 18,
   "metadata": {},
   "outputs": [
    {
     "data": {
      "application/vnd.jupyter.widget-view+json": {
       "model_id": "5d13600f1b594ebf9085a9e13e714287",
       "version_major": 2,
       "version_minor": 0
      },
      "text/plain": [
       "  0%|          | 0/2000 [00:00<?, ?it/s]"
      ]
     },
     "metadata": {},
     "output_type": "display_data"
    }
   ],
   "source": [
    "#Скачиваем описания всех вакансий\n",
    "all_skills = []\n",
    "for i in tqdm(range(len(all_vacancy_ids))):\n",
    "    url = f'https://api.hh.ru/vacancies/{all_vacancy_ids[i]}'\n",
    "    res = requests.get(url)\n",
    "    all_skills.append(res.json().get('key_skills'))"
   ]
  },
  {
   "cell_type": "code",
   "execution_count": 50,
   "metadata": {},
   "outputs": [
    {
     "data": {
      "text/plain": [
       "['SolidWorks', 'AutoCAD', 'ГОСТ', 'ЕСКД']"
      ]
     },
     "execution_count": 50,
     "metadata": {},
     "output_type": "execute_result"
    }
   ],
   "source": [
    "#Распаковываем словари внутри списков в обычные списки\n",
    "skill_list = []\n",
    "for skill in all_skills:\n",
    "    if skill:\n",
    "        temp_arr = []\n",
    "        for item in skill:\n",
    "            temp_arr.append(item[\"name\"])\n",
    "        skill_list.append(temp_arr)\n",
    "    else: skill_list.append(False)\n",
    "skill_list[1]"
   ]
  },
  {
   "cell_type": "code",
   "execution_count": 51,
   "metadata": {},
   "outputs": [
    {
     "data": {
      "text/plain": [
       "0                                False\n",
       "1    [SolidWorks, AutoCAD, ГОСТ, ЕСКД]\n",
       "2                                False\n",
       "dtype: object"
      ]
     },
     "execution_count": 51,
     "metadata": {},
     "output_type": "execute_result"
    }
   ],
   "source": [
    "#Собираем навыки в объект Series, чтобы добавить колонкой к датафрейму\n",
    "skills_table=pd.Series(skill_list)\n",
    "skills_table.head(3)"
   ]
  },
  {
   "cell_type": "code",
   "execution_count": 53,
   "metadata": {},
   "outputs": [],
   "source": [
    "#Добавляем колонку к датафрейму\n",
    "vacs_and_skills=vac_table.copy(deep = True)\n",
    "vacs_and_skills.insert(column=\"skills\", value = skills_table,loc = 3)"
   ]
  },
  {
   "cell_type": "code",
   "execution_count": 54,
   "metadata": {},
   "outputs": [
    {
     "data": {
      "text/html": [
       "<div>\n",
       "<style scoped>\n",
       "    .dataframe tbody tr th:only-of-type {\n",
       "        vertical-align: middle;\n",
       "    }\n",
       "\n",
       "    .dataframe tbody tr th {\n",
       "        vertical-align: top;\n",
       "    }\n",
       "\n",
       "    .dataframe thead th {\n",
       "        text-align: right;\n",
       "    }\n",
       "</style>\n",
       "<table border=\"1\" class=\"dataframe\">\n",
       "  <thead>\n",
       "    <tr style=\"text-align: right;\">\n",
       "      <th></th>\n",
       "      <th>id</th>\n",
       "      <th>premium</th>\n",
       "      <th>name</th>\n",
       "      <th>skills</th>\n",
       "      <th>has_test</th>\n",
       "      <th>response_letter_required</th>\n",
       "      <th>address</th>\n",
       "      <th>response_url</th>\n",
       "      <th>sort_point_distance</th>\n",
       "      <th>published_at</th>\n",
       "      <th>...</th>\n",
       "      <th>address.metro.station_name</th>\n",
       "      <th>address.metro.line_name</th>\n",
       "      <th>address.metro.station_id</th>\n",
       "      <th>address.metro.line_id</th>\n",
       "      <th>address.metro.lat</th>\n",
       "      <th>address.metro.lng</th>\n",
       "      <th>address.metro_stations</th>\n",
       "      <th>address.id</th>\n",
       "      <th>salary</th>\n",
       "      <th>address.metro</th>\n",
       "    </tr>\n",
       "  </thead>\n",
       "  <tbody>\n",
       "    <tr>\n",
       "      <th>0</th>\n",
       "      <td>67879831</td>\n",
       "      <td>False</td>\n",
       "      <td>Старший клиентский менеджер</td>\n",
       "      <td>False</td>\n",
       "      <td>False</td>\n",
       "      <td>False</td>\n",
       "      <td>NaN</td>\n",
       "      <td>None</td>\n",
       "      <td>None</td>\n",
       "      <td>2022-07-18T15:39:36+0300</td>\n",
       "      <td>...</td>\n",
       "      <td>NaN</td>\n",
       "      <td>NaN</td>\n",
       "      <td>NaN</td>\n",
       "      <td>NaN</td>\n",
       "      <td>NaN</td>\n",
       "      <td>NaN</td>\n",
       "      <td>NaN</td>\n",
       "      <td>NaN</td>\n",
       "      <td>NaN</td>\n",
       "      <td>NaN</td>\n",
       "    </tr>\n",
       "    <tr>\n",
       "      <th>1</th>\n",
       "      <td>67536591</td>\n",
       "      <td>False</td>\n",
       "      <td>Ведущий конструктор в Центр Робототехники</td>\n",
       "      <td>[SolidWorks, AutoCAD, ГОСТ, ЕСКД]</td>\n",
       "      <td>False</td>\n",
       "      <td>False</td>\n",
       "      <td>NaN</td>\n",
       "      <td>None</td>\n",
       "      <td>None</td>\n",
       "      <td>2022-07-06T12:41:40+0300</td>\n",
       "      <td>...</td>\n",
       "      <td>Кутузовская</td>\n",
       "      <td>МЦК</td>\n",
       "      <td>95.536</td>\n",
       "      <td>95</td>\n",
       "      <td>55.740833</td>\n",
       "      <td>37.533333</td>\n",
       "      <td>[{'station_name': 'Кутузовская', 'line_name': ...</td>\n",
       "      <td>823806</td>\n",
       "      <td>NaN</td>\n",
       "      <td>NaN</td>\n",
       "    </tr>\n",
       "    <tr>\n",
       "      <th>2</th>\n",
       "      <td>68011820</td>\n",
       "      <td>False</td>\n",
       "      <td>Стажер DevOps</td>\n",
       "      <td>False</td>\n",
       "      <td>False</td>\n",
       "      <td>False</td>\n",
       "      <td>NaN</td>\n",
       "      <td>None</td>\n",
       "      <td>None</td>\n",
       "      <td>2022-07-21T08:23:59+0300</td>\n",
       "      <td>...</td>\n",
       "      <td>NaN</td>\n",
       "      <td>NaN</td>\n",
       "      <td>NaN</td>\n",
       "      <td>NaN</td>\n",
       "      <td>NaN</td>\n",
       "      <td>NaN</td>\n",
       "      <td>NaN</td>\n",
       "      <td>NaN</td>\n",
       "      <td>NaN</td>\n",
       "      <td>NaN</td>\n",
       "    </tr>\n",
       "  </tbody>\n",
       "</table>\n",
       "<p>3 rows × 64 columns</p>\n",
       "</div>"
      ],
      "text/plain": [
       "         id  premium                                       name  \\\n",
       "0  67879831    False                Старший клиентский менеджер   \n",
       "1  67536591    False  Ведущий конструктор в Центр Робототехники   \n",
       "2  68011820    False                              Стажер DevOps   \n",
       "\n",
       "                              skills  has_test  response_letter_required  \\\n",
       "0                              False     False                     False   \n",
       "1  [SolidWorks, AutoCAD, ГОСТ, ЕСКД]     False                     False   \n",
       "2                              False     False                     False   \n",
       "\n",
       "   address response_url sort_point_distance              published_at  ...  \\\n",
       "0      NaN         None                None  2022-07-18T15:39:36+0300  ...   \n",
       "1      NaN         None                None  2022-07-06T12:41:40+0300  ...   \n",
       "2      NaN         None                None  2022-07-21T08:23:59+0300  ...   \n",
       "\n",
       "  address.metro.station_name  address.metro.line_name  \\\n",
       "0                        NaN                      NaN   \n",
       "1                Кутузовская                      МЦК   \n",
       "2                        NaN                      NaN   \n",
       "\n",
       "  address.metro.station_id address.metro.line_id address.metro.lat  \\\n",
       "0                      NaN                   NaN               NaN   \n",
       "1                   95.536                    95         55.740833   \n",
       "2                      NaN                   NaN               NaN   \n",
       "\n",
       "  address.metro.lng                             address.metro_stations  \\\n",
       "0               NaN                                                NaN   \n",
       "1         37.533333  [{'station_name': 'Кутузовская', 'line_name': ...   \n",
       "2               NaN                                                NaN   \n",
       "\n",
       "  address.id salary address.metro  \n",
       "0        NaN    NaN           NaN  \n",
       "1     823806    NaN           NaN  \n",
       "2        NaN    NaN           NaN  \n",
       "\n",
       "[3 rows x 64 columns]"
      ]
     },
     "execution_count": 54,
     "metadata": {},
     "output_type": "execute_result"
    }
   ],
   "source": [
    "vacs_and_skills.head(3)"
   ]
  },
  {
   "cell_type": "code",
   "execution_count": 32,
   "metadata": {},
   "outputs": [
    {
     "data": {
      "text/plain": [
       "datetime64[ns, pytz.FixedOffset(180)]"
      ]
     },
     "execution_count": 32,
     "metadata": {},
     "output_type": "execute_result"
    }
   ],
   "source": [
    "#Приводим даты к нужному формату\n",
    "vacs_and_skills[\"published_at\"]=pd.to_datetime(vacs_and_skills[\"published_at\"])\n",
    "vacs_and_skills[\"published_at\"].dtypes"
   ]
  },
  {
   "cell_type": "code",
   "execution_count": 33,
   "metadata": {},
   "outputs": [
    {
     "data": {
      "text/plain": [
       "published_at\n",
       "2022-06-26     20\n",
       "2022-06-27     40\n",
       "2022-06-28     40\n",
       "2022-06-29    140\n",
       "2022-06-30     80\n",
       "2022-07-01    180\n",
       "2022-07-02     20\n",
       "2022-07-03     20\n",
       "2022-07-04     60\n",
       "2022-07-05    160\n",
       "2022-07-06    100\n",
       "2022-07-07     80\n",
       "2022-07-08     80\n",
       "2022-07-11     40\n",
       "2022-07-12    180\n",
       "2022-07-13    120\n",
       "2022-07-14     80\n",
       "2022-07-15     60\n",
       "2022-07-18    100\n",
       "2022-07-19     60\n",
       "2022-07-20    140\n",
       "2022-07-21     60\n",
       "2022-07-22    120\n",
       "2022-07-24     20\n",
       "Name: id, dtype: int64"
      ]
     },
     "execution_count": 33,
     "metadata": {},
     "output_type": "execute_result"
    }
   ],
   "source": [
    "dates_for_plot = vacs_and_skills.copy(deep = True)\n",
    "dates_for_plot[\"published_at\"] = pd.to_datetime(dates_for_plot[\"published_at\"]).dt.date\n",
    "dates_for_plot=dates_for_plot.groupby([\"published_at\"]).count()\n",
    "dates_for_plot['id']"
   ]
  },
  {
   "cell_type": "code",
   "execution_count": 34,
   "metadata": {},
   "outputs": [
    {
     "data": {
      "text/plain": [
       "<AxesSubplot:xlabel='published_at'>"
      ]
     },
     "execution_count": 34,
     "metadata": {},
     "output_type": "execute_result"
    },
    {
     "data": {
      "image/png": "[encoded data removed]",
      "text/plain": [
       "<Figure size 1440x360 with 1 Axes>"
      ]
     },
     "metadata": {
      "needs_background": "light"
     },
     "output_type": "display_data"
    }
   ],
   "source": [
    "dates_for_plot['id'].plot(figsize=(20,5))"
   ]
  },
  {
   "cell_type": "code",
   "execution_count": 49,
   "metadata": {},
   "outputs": [
    {
     "data": {
      "text/plain": [
       "published_at\n",
       "Среда          500\n",
       "Вторник        440\n",
       "Пятница        440\n",
       "Четверг        300\n",
       "Понедельник    240\n",
       "Воскресенье     60\n",
       "Суббота         20\n",
       "Name: id, dtype: int64"
      ]
     },
     "execution_count": 49,
     "metadata": {},
     "output_type": "execute_result"
    }
   ],
   "source": [
    "#Группируем данные по дням недели, сортируем по количеству вакансий\n",
    "weekdays_for_plot=vacs_and_skills.copy(deep = True)\n",
    "weekdays_for_plot[\"published_at\"]=pd.to_datetime(weekdays_for_plot[\"published_at\"]).dt.weekday\n",
    "weekdays_for_plot_series=weekdays_for_plot.groupby([\"published_at\"]).count()\n",
    "weekdays_for_plot_series['id'].sort_values(ascending=False).rename({\n",
    "    0: \"Понедельник\",\n",
    "    1: \"Вторник\",\n",
    "    2: \"Среда\",\n",
    "    3: \"Четверг\",\n",
    "    4: \"Пятница\",\n",
    "    5: \"Суббота\",\n",
    "    6: \"Воскресенье\"})"
   ]
  },
  {
   "cell_type": "code",
   "execution_count": 97,
   "metadata": {},
   "outputs": [
    {
     "data": {
      "text/plain": [
       "skills\n",
       "Docker                      20\n",
       "Git                         20\n",
       "Machine Learning            20\n",
       "Numpy                       20\n",
       "Pandas                      20\n",
       "PyTorch                     20\n",
       "Python                     100\n",
       "Recsys                      20\n",
       "SQL                         40\n",
       "Soft skills                 20\n",
       "TDD                         20\n",
       "Ориентация на результат     20\n",
       "Работа с банками            20\n",
       "Name: id, dtype: int64"
      ]
     },
     "execution_count": 97,
     "metadata": {},
     "output_type": "execute_result"
    }
   ],
   "source": [
    "#Ищем вакансии, для которых в навыках указан Python\n",
    "python_vacs = vacs_and_skills.copy(deep = True)\n",
    "python_vacs = python_vacs.filter(items = [\"id\", \"name\", \"skills\", \"published_at\", \"schedule.name\"])\n",
    "python_id_list = python_vacs.explode(\"skills\").query(\"skills == 'Python'\")[\"id\"]\n",
    "python_for_plot = python_vacs[python_vacs['id'].isin(python_id_list)]\n",
    "python_plot_series = python_for_plot.explode(\"skills\").groupby(\"skills\").count()['id']\n",
    "python_plot_series"
   ]
  },
  {
   "cell_type": "code",
   "execution_count": 98,
   "metadata": {},
   "outputs": [
    {
     "data": {
      "text/plain": [
       "<AxesSubplot:ylabel='skills'>"
      ]
     },
     "execution_count": 98,
     "metadata": {},
     "output_type": "execute_result"
    },
    {
     "data": {
      "image/png": "[encoded data removed]",
      "text/plain": [
       "<Figure size 1440x360 with 1 Axes>"
      ]
     },
     "metadata": {
      "needs_background": "light"
     },
     "output_type": "display_data"
    }
   ],
   "source": [
    "#Строим график востребованных навыков\n",
    "python_plot_series.plot(figsize=(20,5), kind = 'barh')"
   ]
  }
 ],
 "metadata": {
  "kernelspec": {
   "display_name": "Python 3 (ipykernel)",
   "language": "python",
   "name": "python3"
  },
  "language_info": {
   "codemirror_mode": {
    "name": "ipython",
    "version": 3
   },
   "file_extension": ".py",
   "mimetype": "text/x-python",
   "name": "python",
   "nbconvert_exporter": "python",
   "pygments_lexer": "ipython3",
   "version": "3.9.12"
  }
 },
 "nbformat": 4,
 "nbformat_minor": 4
}
