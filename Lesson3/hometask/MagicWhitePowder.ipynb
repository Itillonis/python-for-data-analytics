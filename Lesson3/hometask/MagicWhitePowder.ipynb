{
 "cells": [
  {
   "cell_type": "markdown",
   "source": [
    "[![Open In Colab](https://colab.research.google.com/assets/colab-badge.svg)](https://colab.research.google.com/github/da-python/python-for-data-analytics/blob/main/Lesson3/hometask/MagicWhitePowder.ipynb)"
   ],
   "metadata": {
    "collapsed": false,
    "pycharm": {
     "name": "#%% md\n"
    }
   }
  },
  {
   "cell_type": "code",
   "execution_count": 2,
   "outputs": [],
   "source": [
    "import requests\n",
    "import yfinance as yf\n",
    "import pandas as pd\n",
    "import matplotlib.pyplot as plt\n",
    "import seaborn; seaborn.set()\n",
    "from bs4 import BeautifulSoup\n",
    "from tqdm.auto import tqdm"
   ],
   "metadata": {
    "collapsed": false,
    "pycharm": {
     "name": "#%%\n"
    }
   }
  },
  {
   "cell_type": "markdown",
   "metadata": {
    "pycharm": {
     "name": "#%% md\n"
    }
   },
   "source": [
    "# Задание 1.\n",
    "\n",
    "Вы - менеджер по продажам в нефтехимической компании. Вы ведете несколько ключевых клиентов, которые закупают продукты вашей компании. Ваша компания запускает новый продукт - \"Волшебный белый порошок\" (ВБП), который по своим свойствам похож на тот, что уже есть на рынке. Ваши клиенты предпочитают формульный подход к ценообразованию. Вам нужно предложить клиентам формулу расчета цены на ВБП. В зависимости от объемов, которые покупают клиенты, им может быть предложена скидка.\n",
    "\n",
    "### Дополнительные вводные:\n",
    "\n",
    "Продукт производиться из нефти. Один из известных способов производства предполагает что из 16 баррелей нефти сделают одну тонну ВБП, а затраты на производство в районе 400 евро."
   ]
  },
  {
   "cell_type": "code",
   "execution_count": 67,
   "metadata": {
    "pycharm": {
     "name": "#%%\n"
    }
   },
   "outputs": [],
   "source": [
    "# Из данных есть:\n",
    "# Котировки нефти, курс eur/usd\n",
    "# dbc = pd.read_excel('cur_oil.xlsx')\n",
    "\n",
    "# Затраты на производство\n",
    "PRODUCTION_COST = 400 # (EUR)\n",
    "\n",
    "# Расходы на логистику\n",
    "EU_LOGISTIC_COST_EUR = 30 # в Европу в евро\n",
    "CN_LOGISTIC_COST_USD = 130 # в Китай в долларах\n",
    "\n",
    "# * Справочная информация по клиентам(объемы, локации, комментарии)\n",
    "customers = {\n",
    "    'Monty':{\n",
    "        'location':'EU',\n",
    "        'volumes':200,\n",
    "        'comment':'moving_average'\n",
    "    },\n",
    "\n",
    "    'Triangle':{\n",
    "        'location':'CN',\n",
    "        'volumes': 30,\n",
    "        'comment': 'monthly'\n",
    "    },\n",
    "    'Stone':{\n",
    "        'location':'EU',\n",
    "        'volumes': 150,\n",
    "        'comment': 'moving_average'\n",
    "    },\n",
    "    'Poly':{\n",
    "        'location':'EU',\n",
    "        'volumes': 70,\n",
    "        'comment': 'monthly'\n",
    "    }\n",
    "}\n",
    "# Скидки\n",
    "discounts = {'up to 100': 0.01, # 1%\n",
    "             'up to 300': 0.05, # 5%\n",
    "             '300 plus': 0.1}   #10%\n"
   ]
  },
  {
   "cell_type": "markdown",
   "metadata": {
    "pycharm": {
     "name": "#%% md\n"
    }
   },
   "source": [
    "### Что нужно сделать?\n",
    "\n",
    "1. Проанализировать имеющиеся данные.\n",
    "2. Определить базовую формулу цены на условиях FCA (цена на заводе). То есть как бы выглядела цена на исторических данных.\n",
    "3. Отобразить на графике.\n",
    "4. Сделать расчет возможной цены по формуле для каждого из клиентов на условиях DDP (цена с доставкой). Записать все в один эксель файл, на разных листах. Каждый лист - название клиента.\n",
    "5. Предложить формулу цены каждому из клиентов на условиях DDP (цена с доставкой).\n",
    "- Создать директорию «для клиентов» и в ней сложить  файлы с расчетами.\n",
    "- Каждый клиент - отдельный файл (любой из docx, xlsx, pptx, pdf)  с именем клиента… \n",
    "\n",
    "### В результате должно быть 3 файла:\n",
    "1. Ноутбук с расчетами и графиками. \n",
    "2. Скрипт, который делает расчет цены для каждого клиента в одном файле\n",
    "2. Скрипт, который делает расчет цены для каждого клиента в отельном файле"
   ]
  },
  {
   "cell_type": "code",
   "execution_count": 37,
   "outputs": [],
   "source": [
    "# Тикеры\n",
    "# нефть 'CL=F'\n",
    "# курс евро к доллару 'EURUSD=X'\n",
    "# курс евро к рублю 'EURRUB=X'\n",
    "# курс доллара к рублю 'USDRUB=X'"
   ],
   "metadata": {
    "collapsed": false,
    "pycharm": {
     "name": "#%%\n"
    }
   }
  },
  {
   "cell_type": "code",
   "execution_count": 8,
   "outputs": [
    {
     "name": "stdout",
     "output_type": "stream",
     "text": [
      "[*********************100%***********************]  1 of 1 completed\n"
     ]
    },
    {
     "data": {
      "text/plain": "                  Open        High         Low       Close   Adj Close  Volume\nDate                                                                          \n2022-06-28  110.180000  112.220001  109.620003  111.760002  111.760002  306748\n2022-06-29  111.860001  114.050003  109.220001  109.779999  109.779999  322060\n2022-06-30  109.699997  110.449997  105.099998  105.760002  105.760002  362890\n2022-07-01  106.010002  109.339996  104.559998  108.430000  108.430000  362890\n2022-07-04  108.800003  110.769997  107.250000  110.500000  110.500000  100221",
      "text/html": "<div>\n<style scoped>\n    .dataframe tbody tr th:only-of-type {\n        vertical-align: middle;\n    }\n\n    .dataframe tbody tr th {\n        vertical-align: top;\n    }\n\n    .dataframe thead th {\n        text-align: right;\n    }\n</style>\n<table border=\"1\" class=\"dataframe\">\n  <thead>\n    <tr style=\"text-align: right;\">\n      <th></th>\n      <th>Open</th>\n      <th>High</th>\n      <th>Low</th>\n      <th>Close</th>\n      <th>Adj Close</th>\n      <th>Volume</th>\n    </tr>\n    <tr>\n      <th>Date</th>\n      <th></th>\n      <th></th>\n      <th></th>\n      <th></th>\n      <th></th>\n      <th></th>\n    </tr>\n  </thead>\n  <tbody>\n    <tr>\n      <th>2022-06-28</th>\n      <td>110.180000</td>\n      <td>112.220001</td>\n      <td>109.620003</td>\n      <td>111.760002</td>\n      <td>111.760002</td>\n      <td>306748</td>\n    </tr>\n    <tr>\n      <th>2022-06-29</th>\n      <td>111.860001</td>\n      <td>114.050003</td>\n      <td>109.220001</td>\n      <td>109.779999</td>\n      <td>109.779999</td>\n      <td>322060</td>\n    </tr>\n    <tr>\n      <th>2022-06-30</th>\n      <td>109.699997</td>\n      <td>110.449997</td>\n      <td>105.099998</td>\n      <td>105.760002</td>\n      <td>105.760002</td>\n      <td>362890</td>\n    </tr>\n    <tr>\n      <th>2022-07-01</th>\n      <td>106.010002</td>\n      <td>109.339996</td>\n      <td>104.559998</td>\n      <td>108.430000</td>\n      <td>108.430000</td>\n      <td>362890</td>\n    </tr>\n    <tr>\n      <th>2022-07-04</th>\n      <td>108.800003</td>\n      <td>110.769997</td>\n      <td>107.250000</td>\n      <td>110.500000</td>\n      <td>110.500000</td>\n      <td>100221</td>\n    </tr>\n  </tbody>\n</table>\n</div>"
     },
     "execution_count": 8,
     "metadata": {},
     "output_type": "execute_result"
    }
   ],
   "source": [
    "df = yf.download('CL=F')\n",
    "df.tail()"
   ],
   "metadata": {
    "collapsed": false,
    "pycharm": {
     "name": "#%%\n"
    }
   }
  },
  {
   "cell_type": "code",
   "execution_count": 8,
   "outputs": [],
   "source": [],
   "metadata": {
    "collapsed": false,
    "pycharm": {
     "name": "#%%\n"
    }
   }
  },
  {
   "cell_type": "code",
   "execution_count": 9,
   "outputs": [],
   "source": [
    "crud_oil_prices = df.Close.copy()"
   ],
   "metadata": {
    "collapsed": false,
    "pycharm": {
     "name": "#%%\n"
    }
   }
  },
  {
   "cell_type": "code",
   "execution_count": 11,
   "outputs": [
    {
     "data": {
      "text/plain": "32.04999923706055"
     },
     "execution_count": 11,
     "metadata": {},
     "output_type": "execute_result"
    }
   ],
   "source": [
    "crud_oil_prices.loc['2000-08-23']"
   ],
   "metadata": {
    "collapsed": false,
    "pycharm": {
     "name": "#%%\n"
    }
   }
  },
  {
   "cell_type": "code",
   "execution_count": 12,
   "outputs": [
    {
     "data": {
      "text/plain": "Date\n2000-08-23    32.049999\n2000-08-24    31.629999\nName: Close, dtype: float64"
     },
     "execution_count": 12,
     "metadata": {},
     "output_type": "execute_result"
    }
   ],
   "source": [
    "crud_oil_prices.loc['2000-08-23':'2000-08-24']"
   ],
   "metadata": {
    "collapsed": false,
    "pycharm": {
     "name": "#%%\n"
    }
   }
  },
  {
   "cell_type": "code",
   "execution_count": 14,
   "outputs": [
    {
     "data": {
      "text/plain": "Date\n2000-08-31     32.545714\n2000-09-30     33.871000\n2000-10-31     32.973182\n2000-11-30     34.264500\n2000-12-31     28.355000\n                 ...    \n2022-03-31    108.262174\n2022-04-30    101.640499\n2022-05-31    109.259523\n2022-06-30    114.154091\n2022-07-31    109.465000\nFreq: M, Name: Close, Length: 264, dtype: float64"
     },
     "execution_count": 14,
     "metadata": {},
     "output_type": "execute_result"
    }
   ],
   "source": [
    "crud_oil_prices.resample('M').mean()"
   ],
   "metadata": {
    "collapsed": false,
    "pycharm": {
     "name": "#%%\n"
    }
   }
  },
  {
   "cell_type": "code",
   "execution_count": 15,
   "outputs": [
    {
     "name": "stdout",
     "output_type": "stream",
     "text": [
      "[*********************100%***********************]  1 of 1 completed\n",
      "[*********************100%***********************]  1 of 1 completed\n",
      "[*********************100%***********************]  1 of 1 completed\n"
     ]
    }
   ],
   "source": [
    "exr_eurusd = yf.download( 'EURUSD=X')\n",
    "exr_usdrub = yf.download('USDRUB=X')\n",
    "exr_eurrub = yf.download('EURRUB=X')"
   ],
   "metadata": {
    "collapsed": false,
    "pycharm": {
     "name": "#%%\n"
    }
   }
  },
  {
   "cell_type": "code",
   "execution_count": 16,
   "outputs": [
    {
     "data": {
      "text/plain": "  0%|          | 0/4 [00:00<?, ?it/s]",
      "application/vnd.jupyter.widget-view+json": {
       "version_major": 2,
       "version_minor": 0,
       "model_id": "d84cd3e8cd4e49b0bc9f24b4f025f5c6"
      }
     },
     "metadata": {},
     "output_type": "display_data"
    },
    {
     "name": "stdout",
     "output_type": "stream",
     "text": [
      "[*********************100%***********************]  1 of 1 completed\n",
      "[*********************100%***********************]  1 of 1 completed\n",
      "[*********************100%***********************]  1 of 1 completed\n",
      "[*********************100%***********************]  1 of 1 completed\n"
     ]
    }
   ],
   "source": [
    "df_dict = {}\n",
    "for ticker in tqdm(['CL=F','USDRUB=X', 'EURUSD=X', 'EURRUB=X']):\n",
    "    df = yf.download(ticker)\n",
    "    df = df.Close.copy()\n",
    "    df = df.resample('M').mean()\n",
    "    df_dict[ticker] = df"
   ],
   "metadata": {
    "collapsed": false,
    "pycharm": {
     "name": "#%%\n"
    }
   }
  },
  {
   "cell_type": "code",
   "execution_count": 38,
   "outputs": [],
   "source": [
    "main_df = pd.concat(df_dict.values(), axis=1)\n",
    "main_df.columns = ['CRUDE_OIL_USD','USDRUB', 'EURUSD', 'EURRUB']"
   ],
   "metadata": {
    "collapsed": false,
    "pycharm": {
     "name": "#%%\n"
    }
   }
  },
  {
   "cell_type": "code",
   "execution_count": 39,
   "outputs": [],
   "source": [
    "# df_dict.get('CL=F')"
   ],
   "metadata": {
    "collapsed": false,
    "pycharm": {
     "name": "#%%\n"
    }
   }
  },
  {
   "cell_type": "code",
   "execution_count": 40,
   "outputs": [],
   "source": [
    "main_df = main_df.loc['2019-06-30':'2022-06-30'].copy()"
   ],
   "metadata": {
    "collapsed": false,
    "pycharm": {
     "name": "#%%\n"
    }
   }
  },
  {
   "cell_type": "code",
   "execution_count": 40,
   "outputs": [],
   "source": [],
   "metadata": {
    "collapsed": false,
    "pycharm": {
     "name": "#%%\n"
    }
   }
  },
  {
   "cell_type": "code",
   "execution_count": 42,
   "outputs": [],
   "source": [
    "main_df['MWP_PRICE_EUR'] = main_df.CRUDE_OIL_USD*16 * (1/main_df.EURUSD) + 400"
   ],
   "metadata": {
    "collapsed": false,
    "pycharm": {
     "name": "#%%\n"
    }
   }
  },
  {
   "cell_type": "code",
   "execution_count": 43,
   "outputs": [],
   "source": [
    "main_df['MWP_PRICE_USD'] = main_df.CRUDE_OIL_USD*16 + 400 * main_df.EURUSD"
   ],
   "metadata": {
    "collapsed": false,
    "pycharm": {
     "name": "#%%\n"
    }
   }
  },
  {
   "cell_type": "code",
   "execution_count": 44,
   "outputs": [],
   "source": [
    "# 54.706500 * (1/1.129002) * 16 + 400\n",
    "# 54.706500 * (1/1.129002)\n",
    "# 400 *  1.129002"
   ],
   "metadata": {
    "collapsed": false,
    "pycharm": {
     "name": "#%%\n"
    }
   }
  },
  {
   "cell_type": "markdown",
   "source": [],
   "metadata": {
    "collapsed": false,
    "pycharm": {
     "name": "#%% md\n"
    }
   }
  },
  {
   "cell_type": "code",
   "execution_count": 48,
   "outputs": [],
   "source": [
    "# Расходы на логистику\n",
    "EU_LOGISTIC_COST_EUR = 30 # в Европу в евро\n",
    "CN_LOGISTIC_COST_USD = 130 # в Китай в долларах\n"
   ],
   "metadata": {
    "collapsed": false,
    "pycharm": {
     "name": "#%%\n"
    }
   }
  },
  {
   "cell_type": "code",
   "execution_count": 49,
   "outputs": [],
   "source": [
    "main_df['MWP_PRICE_EUR_EU'] = main_df['MWP_PRICE_EUR'] + EU_LOGISTIC_COST_EUR\n",
    "main_df['MWP_PRICE_USD_CN'] = main_df['MWP_PRICE_USD'] + CN_LOGISTIC_COST_USD"
   ],
   "metadata": {
    "collapsed": false,
    "pycharm": {
     "name": "#%%\n"
    }
   }
  },
  {
   "cell_type": "code",
   "execution_count": 56,
   "outputs": [
    {
     "data": {
      "text/plain": "            CRUDE_OIL_USD      USDRUB    EURUSD      EURRUB  MWP_PRICE_EUR  \\\nDate                                                                         \n2019-06-30      54.706500   64.168690  1.129002   72.458005    1175.290064   \n2019-07-31      57.546364   63.176222  1.122682   70.956822    1220.127257   \n2019-08-31      54.844091   65.687992  1.113163   73.143709    1188.298999   \n2019-09-30      56.967000   64.971148  1.101377   71.589861    1227.574949   \n2019-10-31      54.005653   64.341009  1.104839   71.093322    1182.096026   \n2019-11-30      57.070000   63.833124  1.105471   70.593953    1226.001103   \n2019-12-31      59.804762   62.899559  1.110955   69.886841    1261.309490   \n2020-01-31      57.528572   61.828313  1.111180   68.664805    1228.359873   \n2020-02-29      50.542105   63.991130  1.091091   69.840279    1141.160840   \n2020-03-31      30.445455   74.244732  1.107309   82.130068     839.920059   \n2020-04-30      16.699048   75.222187  1.087575   81.777489     645.670194   \n2020-05-31      28.527500   72.904476  1.089994   79.473057     818.754651   \n2020-06-30      38.313636   69.215608  1.125652   77.931055     944.589262   \n2020-07-31      40.765909   71.392375  1.145476   81.748517     969.418153   \n2020-08-31      42.388095   73.802624  1.182762   87.273709     973.411653   \n2020-09-30      39.625714   75.857854  1.179660   89.490917     937.452514   \n2020-10-31      39.554545   77.488973  1.176977   91.242050     937.710406   \n2020-11-30      41.346500   76.864638  1.182952   90.929762     959.231699   \n2020-12-31      47.068181   74.167544  1.216249   90.213070    1019.191154   \n2021-01-31      52.102106   74.351806  1.217785   90.610795    1084.548922   \n2021-02-28      59.061053   74.427065  1.209898   90.067805    1181.038516   \n2021-03-31      62.357391   74.481218  1.191474   88.778926    1237.381431   \n2021-04-30      61.703810   76.059477  1.195960   90.939836    1225.496845   \n2021-05-31      65.157000   73.987567  1.214025   89.845046    1258.723806   \n2021-06-30      71.352729   72.609763  1.205959   87.530550    1346.668824   \n2021-07-31      72.430477   73.945668  1.182493   87.460646    1380.038021   \n2021-08-31      67.711363   73.559558  1.177090   86.619186    1320.389729   \n2021-09-30      71.544762   72.887837  1.177784   85.868650    1371.923843   \n2021-10-31      81.222858   71.357257  1.160063   82.796733    1520.254336   \n2021-11-30      78.625454   72.698596  1.141729   83.016804    1501.843874   \n2021-12-31      71.690001   73.798444  1.130719   83.471878    1414.434148   \n2022-01-31      82.979000   76.412776  1.132574   86.605537    1572.253897   \n2022-02-28      91.628947   77.466339  1.133995   87.878880    1692.829787   \n2022-03-31     108.262174  111.013403  1.102412  132.952291    1971.276436   \n2022-04-30     101.640499   80.666187  1.082745   86.109895    1901.968368   \n2022-05-31     109.259523   65.422944  1.057322   68.104363    2053.376840   \n2022-06-30     114.154091   60.146091  1.057670   60.378959    2126.877231   \n\n            MWP_PRICE_USD  MWP_PRICE_EUR_EU  MWP_PRICE_USD_CN  \\\nDate                                                            \n2019-06-30    1326.904789       1205.290064       1456.904789   \n2019-07-31    1369.814481       1250.127257       1499.814481   \n2019-08-31    1322.770735       1218.298999       1452.770735   \n2019-09-30    1352.022793       1257.574949       1482.022793   \n2019-10-31    1306.026169       1212.096026       1436.026169   \n2019-11-30    1355.308273       1256.001103       1485.308273   \n2019-12-31    1401.258241       1291.309490       1531.258241   \n2020-01-31    1364.929260       1258.359873       1494.929260   \n2020-02-29    1245.109950       1171.160840       1375.109950   \n2020-03-31     930.050722        869.920059       1060.050722   \n2020-04-30     702.214766        675.670194        832.214766   \n2020-05-31     892.437545        848.754651       1022.437545   \n2020-06-30    1063.279114        974.589262       1193.279114   \n2020-07-31    1110.444750        999.418153       1240.444750   \n2020-08-31    1151.314328       1003.411653       1281.314328   \n2020-09-30    1105.875568        967.452514       1235.875568   \n2020-10-31    1103.663484        967.710406       1233.663484   \n2020-11-30    1134.724627        989.231699       1264.724627   \n2020-12-31    1239.590686       1049.191154       1369.590686   \n2021-01-31    1320.747853       1114.548922       1450.747853   \n2021-02-28    1428.935992       1211.038516       1558.935992   \n2021-03-31    1474.307890       1267.381431       1604.307890   \n2021-04-30    1465.644836       1255.496845       1595.644836   \n2021-05-31    1528.121916       1288.723806       1658.121916   \n2021-06-30    1624.027206       1376.668824       1754.027206   \n2021-07-31    1631.884632       1410.038021       1761.884632   \n2021-08-31    1554.217926       1350.389729       1684.217926   \n2021-09-30    1615.829727       1401.923843       1745.829727   \n2021-10-31    1763.590961       1550.254336       1893.590961   \n2021-11-30    1714.698928       1531.843874       1844.698928   \n2021-12-31    1599.327629       1444.434148       1729.327629   \n2022-01-31    1780.693505       1602.253897       1910.693505   \n2022-02-28    1919.661345       1722.829787       2049.661345   \n2022-03-31    2173.159781       2001.276436       2303.159781   \n2022-04-30    2059.345793       1931.968368       2189.345793   \n2022-05-31    2171.081327       2083.376840       2301.081327   \n2022-06-30    2249.533279       2156.877231       2379.533279   \n\n            MWP_PRICE_EUR_EU_MA  \nDate                             \n2019-06-30                  NaN  \n2019-07-31                  NaN  \n2019-08-31          1224.572106  \n2019-09-30          1242.000402  \n2019-10-31          1229.323324  \n2019-11-30          1241.890693  \n2019-12-31          1253.135540  \n2020-01-31          1268.556822  \n2020-02-29          1240.276734  \n2020-03-31          1099.813591  \n2020-04-30           905.583698  \n2020-05-31           798.114968  \n2020-06-30           833.004702  \n2020-07-31           940.920689  \n2020-08-31           992.473023  \n2020-09-30           990.094107  \n2020-10-31           979.524857  \n2020-11-30           974.798206  \n2020-12-31          1002.044419  \n2021-01-31          1050.990592  \n2021-02-28          1124.926197  \n2021-03-31          1197.656290  \n2021-04-30          1244.638931  \n2021-05-31          1270.534027  \n2021-06-30          1306.963158  \n2021-07-31          1358.476884  \n2021-08-31          1379.032191  \n2021-09-30          1387.450531  \n2021-10-31          1434.189303  \n2021-11-30          1494.674018  \n2021-12-31          1508.844120  \n2022-01-31          1526.177307  \n2022-02-28          1589.839277  \n2022-03-31          1775.453373  \n2022-04-30          1885.358197  \n2022-05-31          2005.540548  \n2022-06-30          2057.407480  ",
      "text/html": "<div>\n<style scoped>\n    .dataframe tbody tr th:only-of-type {\n        vertical-align: middle;\n    }\n\n    .dataframe tbody tr th {\n        vertical-align: top;\n    }\n\n    .dataframe thead th {\n        text-align: right;\n    }\n</style>\n<table border=\"1\" class=\"dataframe\">\n  <thead>\n    <tr style=\"text-align: right;\">\n      <th></th>\n      <th>CRUDE_OIL_USD</th>\n      <th>USDRUB</th>\n      <th>EURUSD</th>\n      <th>EURRUB</th>\n      <th>MWP_PRICE_EUR</th>\n      <th>MWP_PRICE_USD</th>\n      <th>MWP_PRICE_EUR_EU</th>\n      <th>MWP_PRICE_USD_CN</th>\n      <th>MWP_PRICE_EUR_EU_MA</th>\n    </tr>\n    <tr>\n      <th>Date</th>\n      <th></th>\n      <th></th>\n      <th></th>\n      <th></th>\n      <th></th>\n      <th></th>\n      <th></th>\n      <th></th>\n      <th></th>\n    </tr>\n  </thead>\n  <tbody>\n    <tr>\n      <th>2019-06-30</th>\n      <td>54.706500</td>\n      <td>64.168690</td>\n      <td>1.129002</td>\n      <td>72.458005</td>\n      <td>1175.290064</td>\n      <td>1326.904789</td>\n      <td>1205.290064</td>\n      <td>1456.904789</td>\n      <td>NaN</td>\n    </tr>\n    <tr>\n      <th>2019-07-31</th>\n      <td>57.546364</td>\n      <td>63.176222</td>\n      <td>1.122682</td>\n      <td>70.956822</td>\n      <td>1220.127257</td>\n      <td>1369.814481</td>\n      <td>1250.127257</td>\n      <td>1499.814481</td>\n      <td>NaN</td>\n    </tr>\n    <tr>\n      <th>2019-08-31</th>\n      <td>54.844091</td>\n      <td>65.687992</td>\n      <td>1.113163</td>\n      <td>73.143709</td>\n      <td>1188.298999</td>\n      <td>1322.770735</td>\n      <td>1218.298999</td>\n      <td>1452.770735</td>\n      <td>1224.572106</td>\n    </tr>\n    <tr>\n      <th>2019-09-30</th>\n      <td>56.967000</td>\n      <td>64.971148</td>\n      <td>1.101377</td>\n      <td>71.589861</td>\n      <td>1227.574949</td>\n      <td>1352.022793</td>\n      <td>1257.574949</td>\n      <td>1482.022793</td>\n      <td>1242.000402</td>\n    </tr>\n    <tr>\n      <th>2019-10-31</th>\n      <td>54.005653</td>\n      <td>64.341009</td>\n      <td>1.104839</td>\n      <td>71.093322</td>\n      <td>1182.096026</td>\n      <td>1306.026169</td>\n      <td>1212.096026</td>\n      <td>1436.026169</td>\n      <td>1229.323324</td>\n    </tr>\n    <tr>\n      <th>2019-11-30</th>\n      <td>57.070000</td>\n      <td>63.833124</td>\n      <td>1.105471</td>\n      <td>70.593953</td>\n      <td>1226.001103</td>\n      <td>1355.308273</td>\n      <td>1256.001103</td>\n      <td>1485.308273</td>\n      <td>1241.890693</td>\n    </tr>\n    <tr>\n      <th>2019-12-31</th>\n      <td>59.804762</td>\n      <td>62.899559</td>\n      <td>1.110955</td>\n      <td>69.886841</td>\n      <td>1261.309490</td>\n      <td>1401.258241</td>\n      <td>1291.309490</td>\n      <td>1531.258241</td>\n      <td>1253.135540</td>\n    </tr>\n    <tr>\n      <th>2020-01-31</th>\n      <td>57.528572</td>\n      <td>61.828313</td>\n      <td>1.111180</td>\n      <td>68.664805</td>\n      <td>1228.359873</td>\n      <td>1364.929260</td>\n      <td>1258.359873</td>\n      <td>1494.929260</td>\n      <td>1268.556822</td>\n    </tr>\n    <tr>\n      <th>2020-02-29</th>\n      <td>50.542105</td>\n      <td>63.991130</td>\n      <td>1.091091</td>\n      <td>69.840279</td>\n      <td>1141.160840</td>\n      <td>1245.109950</td>\n      <td>1171.160840</td>\n      <td>1375.109950</td>\n      <td>1240.276734</td>\n    </tr>\n    <tr>\n      <th>2020-03-31</th>\n      <td>30.445455</td>\n      <td>74.244732</td>\n      <td>1.107309</td>\n      <td>82.130068</td>\n      <td>839.920059</td>\n      <td>930.050722</td>\n      <td>869.920059</td>\n      <td>1060.050722</td>\n      <td>1099.813591</td>\n    </tr>\n    <tr>\n      <th>2020-04-30</th>\n      <td>16.699048</td>\n      <td>75.222187</td>\n      <td>1.087575</td>\n      <td>81.777489</td>\n      <td>645.670194</td>\n      <td>702.214766</td>\n      <td>675.670194</td>\n      <td>832.214766</td>\n      <td>905.583698</td>\n    </tr>\n    <tr>\n      <th>2020-05-31</th>\n      <td>28.527500</td>\n      <td>72.904476</td>\n      <td>1.089994</td>\n      <td>79.473057</td>\n      <td>818.754651</td>\n      <td>892.437545</td>\n      <td>848.754651</td>\n      <td>1022.437545</td>\n      <td>798.114968</td>\n    </tr>\n    <tr>\n      <th>2020-06-30</th>\n      <td>38.313636</td>\n      <td>69.215608</td>\n      <td>1.125652</td>\n      <td>77.931055</td>\n      <td>944.589262</td>\n      <td>1063.279114</td>\n      <td>974.589262</td>\n      <td>1193.279114</td>\n      <td>833.004702</td>\n    </tr>\n    <tr>\n      <th>2020-07-31</th>\n      <td>40.765909</td>\n      <td>71.392375</td>\n      <td>1.145476</td>\n      <td>81.748517</td>\n      <td>969.418153</td>\n      <td>1110.444750</td>\n      <td>999.418153</td>\n      <td>1240.444750</td>\n      <td>940.920689</td>\n    </tr>\n    <tr>\n      <th>2020-08-31</th>\n      <td>42.388095</td>\n      <td>73.802624</td>\n      <td>1.182762</td>\n      <td>87.273709</td>\n      <td>973.411653</td>\n      <td>1151.314328</td>\n      <td>1003.411653</td>\n      <td>1281.314328</td>\n      <td>992.473023</td>\n    </tr>\n    <tr>\n      <th>2020-09-30</th>\n      <td>39.625714</td>\n      <td>75.857854</td>\n      <td>1.179660</td>\n      <td>89.490917</td>\n      <td>937.452514</td>\n      <td>1105.875568</td>\n      <td>967.452514</td>\n      <td>1235.875568</td>\n      <td>990.094107</td>\n    </tr>\n    <tr>\n      <th>2020-10-31</th>\n      <td>39.554545</td>\n      <td>77.488973</td>\n      <td>1.176977</td>\n      <td>91.242050</td>\n      <td>937.710406</td>\n      <td>1103.663484</td>\n      <td>967.710406</td>\n      <td>1233.663484</td>\n      <td>979.524857</td>\n    </tr>\n    <tr>\n      <th>2020-11-30</th>\n      <td>41.346500</td>\n      <td>76.864638</td>\n      <td>1.182952</td>\n      <td>90.929762</td>\n      <td>959.231699</td>\n      <td>1134.724627</td>\n      <td>989.231699</td>\n      <td>1264.724627</td>\n      <td>974.798206</td>\n    </tr>\n    <tr>\n      <th>2020-12-31</th>\n      <td>47.068181</td>\n      <td>74.167544</td>\n      <td>1.216249</td>\n      <td>90.213070</td>\n      <td>1019.191154</td>\n      <td>1239.590686</td>\n      <td>1049.191154</td>\n      <td>1369.590686</td>\n      <td>1002.044419</td>\n    </tr>\n    <tr>\n      <th>2021-01-31</th>\n      <td>52.102106</td>\n      <td>74.351806</td>\n      <td>1.217785</td>\n      <td>90.610795</td>\n      <td>1084.548922</td>\n      <td>1320.747853</td>\n      <td>1114.548922</td>\n      <td>1450.747853</td>\n      <td>1050.990592</td>\n    </tr>\n    <tr>\n      <th>2021-02-28</th>\n      <td>59.061053</td>\n      <td>74.427065</td>\n      <td>1.209898</td>\n      <td>90.067805</td>\n      <td>1181.038516</td>\n      <td>1428.935992</td>\n      <td>1211.038516</td>\n      <td>1558.935992</td>\n      <td>1124.926197</td>\n    </tr>\n    <tr>\n      <th>2021-03-31</th>\n      <td>62.357391</td>\n      <td>74.481218</td>\n      <td>1.191474</td>\n      <td>88.778926</td>\n      <td>1237.381431</td>\n      <td>1474.307890</td>\n      <td>1267.381431</td>\n      <td>1604.307890</td>\n      <td>1197.656290</td>\n    </tr>\n    <tr>\n      <th>2021-04-30</th>\n      <td>61.703810</td>\n      <td>76.059477</td>\n      <td>1.195960</td>\n      <td>90.939836</td>\n      <td>1225.496845</td>\n      <td>1465.644836</td>\n      <td>1255.496845</td>\n      <td>1595.644836</td>\n      <td>1244.638931</td>\n    </tr>\n    <tr>\n      <th>2021-05-31</th>\n      <td>65.157000</td>\n      <td>73.987567</td>\n      <td>1.214025</td>\n      <td>89.845046</td>\n      <td>1258.723806</td>\n      <td>1528.121916</td>\n      <td>1288.723806</td>\n      <td>1658.121916</td>\n      <td>1270.534027</td>\n    </tr>\n    <tr>\n      <th>2021-06-30</th>\n      <td>71.352729</td>\n      <td>72.609763</td>\n      <td>1.205959</td>\n      <td>87.530550</td>\n      <td>1346.668824</td>\n      <td>1624.027206</td>\n      <td>1376.668824</td>\n      <td>1754.027206</td>\n      <td>1306.963158</td>\n    </tr>\n    <tr>\n      <th>2021-07-31</th>\n      <td>72.430477</td>\n      <td>73.945668</td>\n      <td>1.182493</td>\n      <td>87.460646</td>\n      <td>1380.038021</td>\n      <td>1631.884632</td>\n      <td>1410.038021</td>\n      <td>1761.884632</td>\n      <td>1358.476884</td>\n    </tr>\n    <tr>\n      <th>2021-08-31</th>\n      <td>67.711363</td>\n      <td>73.559558</td>\n      <td>1.177090</td>\n      <td>86.619186</td>\n      <td>1320.389729</td>\n      <td>1554.217926</td>\n      <td>1350.389729</td>\n      <td>1684.217926</td>\n      <td>1379.032191</td>\n    </tr>\n    <tr>\n      <th>2021-09-30</th>\n      <td>71.544762</td>\n      <td>72.887837</td>\n      <td>1.177784</td>\n      <td>85.868650</td>\n      <td>1371.923843</td>\n      <td>1615.829727</td>\n      <td>1401.923843</td>\n      <td>1745.829727</td>\n      <td>1387.450531</td>\n    </tr>\n    <tr>\n      <th>2021-10-31</th>\n      <td>81.222858</td>\n      <td>71.357257</td>\n      <td>1.160063</td>\n      <td>82.796733</td>\n      <td>1520.254336</td>\n      <td>1763.590961</td>\n      <td>1550.254336</td>\n      <td>1893.590961</td>\n      <td>1434.189303</td>\n    </tr>\n    <tr>\n      <th>2021-11-30</th>\n      <td>78.625454</td>\n      <td>72.698596</td>\n      <td>1.141729</td>\n      <td>83.016804</td>\n      <td>1501.843874</td>\n      <td>1714.698928</td>\n      <td>1531.843874</td>\n      <td>1844.698928</td>\n      <td>1494.674018</td>\n    </tr>\n    <tr>\n      <th>2021-12-31</th>\n      <td>71.690001</td>\n      <td>73.798444</td>\n      <td>1.130719</td>\n      <td>83.471878</td>\n      <td>1414.434148</td>\n      <td>1599.327629</td>\n      <td>1444.434148</td>\n      <td>1729.327629</td>\n      <td>1508.844120</td>\n    </tr>\n    <tr>\n      <th>2022-01-31</th>\n      <td>82.979000</td>\n      <td>76.412776</td>\n      <td>1.132574</td>\n      <td>86.605537</td>\n      <td>1572.253897</td>\n      <td>1780.693505</td>\n      <td>1602.253897</td>\n      <td>1910.693505</td>\n      <td>1526.177307</td>\n    </tr>\n    <tr>\n      <th>2022-02-28</th>\n      <td>91.628947</td>\n      <td>77.466339</td>\n      <td>1.133995</td>\n      <td>87.878880</td>\n      <td>1692.829787</td>\n      <td>1919.661345</td>\n      <td>1722.829787</td>\n      <td>2049.661345</td>\n      <td>1589.839277</td>\n    </tr>\n    <tr>\n      <th>2022-03-31</th>\n      <td>108.262174</td>\n      <td>111.013403</td>\n      <td>1.102412</td>\n      <td>132.952291</td>\n      <td>1971.276436</td>\n      <td>2173.159781</td>\n      <td>2001.276436</td>\n      <td>2303.159781</td>\n      <td>1775.453373</td>\n    </tr>\n    <tr>\n      <th>2022-04-30</th>\n      <td>101.640499</td>\n      <td>80.666187</td>\n      <td>1.082745</td>\n      <td>86.109895</td>\n      <td>1901.968368</td>\n      <td>2059.345793</td>\n      <td>1931.968368</td>\n      <td>2189.345793</td>\n      <td>1885.358197</td>\n    </tr>\n    <tr>\n      <th>2022-05-31</th>\n      <td>109.259523</td>\n      <td>65.422944</td>\n      <td>1.057322</td>\n      <td>68.104363</td>\n      <td>2053.376840</td>\n      <td>2171.081327</td>\n      <td>2083.376840</td>\n      <td>2301.081327</td>\n      <td>2005.540548</td>\n    </tr>\n    <tr>\n      <th>2022-06-30</th>\n      <td>114.154091</td>\n      <td>60.146091</td>\n      <td>1.057670</td>\n      <td>60.378959</td>\n      <td>2126.877231</td>\n      <td>2249.533279</td>\n      <td>2156.877231</td>\n      <td>2379.533279</td>\n      <td>2057.407480</td>\n    </tr>\n  </tbody>\n</table>\n</div>"
     },
     "execution_count": 56,
     "metadata": {},
     "output_type": "execute_result"
    }
   ],
   "source": [
    "main_df"
   ],
   "metadata": {
    "collapsed": false,
    "pycharm": {
     "name": "#%%\n"
    }
   }
  },
  {
   "cell_type": "code",
   "execution_count": 55,
   "outputs": [],
   "source": [
    "main_df['MWP_PRICE_EUR_EU_MA'] = main_df.MWP_PRICE_EUR_EU.rolling(window=3).mean()"
   ],
   "metadata": {
    "collapsed": false,
    "pycharm": {
     "name": "#%%\n"
    }
   }
  },
  {
   "cell_type": "code",
   "execution_count": 63,
   "outputs": [],
   "source": [
    "from pylab import rcParams\n",
    "rcParams['figure.figsize'] = 12,7"
   ],
   "metadata": {
    "collapsed": false,
    "pycharm": {
     "name": "#%%\n"
    }
   }
  },
  {
   "cell_type": "code",
   "execution_count": null,
   "outputs": [],
   "source": [],
   "metadata": {
    "collapsed": false,
    "pycharm": {
     "name": "#%%\n"
    }
   }
  },
  {
   "cell_type": "code",
   "execution_count": 65,
   "outputs": [
    {
     "data": {
      "text/plain": "<Figure size 864x504 with 1 Axes>",
      "image/png": "[encoded data removed]"
     },
     "metadata": {
      "needs_background": "light"
     },
     "output_type": "display_data"
    }
   ],
   "source": [
    "# График с базовой ценой(на заводе) в евро\n",
    "main_df['MWP_PRICE_EUR'].plot();"
   ],
   "metadata": {
    "collapsed": false,
    "pycharm": {
     "name": "#%%\n"
    }
   }
  },
  {
   "cell_type": "code",
   "execution_count": 68,
   "outputs": [
    {
     "data": {
      "text/plain": "{'Monty': {'location': 'EU', 'volumes': 200, 'comment': 'moving_average'},\n 'Triangle': {'location': 'CN', 'volumes': 30, 'comment': 'monthly'},\n 'Stone': {'location': 'EU', 'volumes': 150, 'comment': 'moving_average'},\n 'Poly': {'location': 'EU', 'volumes': 70, 'comment': 'monthly'}}"
     },
     "execution_count": 68,
     "metadata": {},
     "output_type": "execute_result"
    }
   ],
   "source": [
    "customers"
   ],
   "metadata": {
    "collapsed": false,
    "pycharm": {
     "name": "#%%\n"
    }
   }
  },
  {
   "cell_type": "code",
   "execution_count": 69,
   "outputs": [
    {
     "data": {
      "text/plain": "{'up to 100': 0.01, 'up to 300': 0.05, '300 plus': 0.1}"
     },
     "execution_count": 69,
     "metadata": {},
     "output_type": "execute_result"
    }
   ],
   "source": [
    "discounts"
   ],
   "metadata": {
    "collapsed": false,
    "pycharm": {
     "name": "#%%\n"
    }
   }
  },
  {
   "cell_type": "code",
   "execution_count": null,
   "outputs": [],
   "source": [],
   "metadata": {
    "collapsed": false,
    "pycharm": {
     "name": "#%%\n"
    }
   }
  },
  {
   "cell_type": "code",
   "execution_count": 70,
   "outputs": [],
   "source": [
    "discounts = {100: 0.01, 300: 0.05, 301: 0.1}"
   ],
   "metadata": {
    "collapsed": false,
    "pycharm": {
     "name": "#%%\n"
    }
   }
  },
  {
   "cell_type": "code",
   "execution_count": null,
   "outputs": [],
   "source": [
    "for client ,v in customers.items():\n",
    "    location = client.get('location')\n",
    "    disc = 0\n",
    "    if client.get('location') == \"EU\":\n",
    "        for k_lim, discount_share in discounts.items():\n",
    "            if client.get('volumes') > k_lim:\n",
    "                continue\n",
    "            else:\n",
    "               disc = discount_share\n",
    "    elif client.get('location') == 'CN':\n",
    "        pass"
   ],
   "metadata": {
    "collapsed": false,
    "pycharm": {
     "name": "#%%\n"
    }
   }
  },
  {
   "cell_type": "code",
   "execution_count": null,
   "outputs": [],
   "source": [],
   "metadata": {
    "collapsed": false,
    "pycharm": {
     "name": "#%%\n"
    }
   }
  },
  {
   "cell_type": "code",
   "execution_count": null,
   "outputs": [],
   "source": [],
   "metadata": {
    "collapsed": false,
    "pycharm": {
     "name": "#%%\n"
    }
   }
  },
  {
   "cell_type": "code",
   "execution_count": null,
   "outputs": [],
   "source": [],
   "metadata": {
    "collapsed": false,
    "pycharm": {
     "name": "#%%\n"
    }
   }
  },
  {
   "cell_type": "markdown",
   "metadata": {
    "pycharm": {
     "name": "#%% md\n"
    }
   },
   "source": [
    "# Задание 2. Продолжение"
   ]
  },
  {
   "cell_type": "markdown",
   "metadata": {
    "pycharm": {
     "name": "#%% md\n"
    }
   },
   "source": [
    "Клиенты согласились на ваше предложение. \n",
    "Вам нужно сделать написать скрипт, с помощью которого можно автоматом рассчитывать цены для всех клиентов одновременно. \n",
    "Важный момент: данные для расчета скрипт должен подтягивать сам.\n",
    "\n",
    "В результате должно быть 3 файла\n",
    "1. Ноутбук с расчетами и графиками (чтобы данные подтягивались туда)\n",
    "2. Скрипт, который делает расчет цены для клиента (чтобы данные подтягивались туда сами)"
   ]
  },
  {
   "cell_type": "code",
   "execution_count": null,
   "metadata": {
    "pycharm": {
     "name": "#%%\n"
    }
   },
   "outputs": [],
   "source": [
    "# "
   ]
  },
  {
   "cell_type": "markdown",
   "metadata": {
    "pycharm": {
     "name": "#%% md\n"
    }
   },
   "source": [
    "# Задание 3. Back to Russia\n",
    "\n",
    "К вам пришел новый клиент из России. Который использует продукт А и готов регулярно закупать ВБП для того, чтобы не быть привязанным к одному поставщику. Клиент готов забирать ВБП с завода самостоятельно.\n",
    "1. На основе тех данных, которые уже есть предложите цену новому клиенту. \n",
    "2. Подготовьте скрипт, который будет использовать курс публикуемый на <a href='http://www.cbr.ru/currency_base/dynamics/'> сайте ЦБ РФ</a>.\n"
   ]
  },
  {
   "cell_type": "code",
   "execution_count": null,
   "metadata": {
    "pycharm": {
     "name": "#%%\n"
    }
   },
   "outputs": [],
   "source": [
    "# "
   ]
  },
  {
   "cell_type": "markdown",
   "metadata": {
    "pycharm": {
     "name": "#%% md\n"
    }
   },
   "source": [
    "# Задание 4. Check it"
   ]
  },
  {
   "cell_type": "markdown",
   "metadata": {
    "pycharm": {
     "name": "#%% md\n"
    }
   },
   "source": [
    "* Подумайте, как можно проверить корректность работы алгоритма? \n",
    "* Какие возможны ошибки?\n",
    "* Придумайте тесты для проверки возможных ошибок алгоритма\n",
    "* Интергрируйте их в свои скрипты в виде исключений\n"
   ]
  },
  {
   "cell_type": "code",
   "execution_count": null,
   "metadata": {
    "pycharm": {
     "name": "#%%\n"
    }
   },
   "outputs": [],
   "source": [
    "# "
   ]
  },
  {
   "cell_type": "markdown",
   "metadata": {
    "pycharm": {
     "name": "#%% md\n"
    }
   },
   "source": [
    "# Задание 5. Поделись с ближним"
   ]
  },
  {
   "cell_type": "markdown",
   "metadata": {
    "pycharm": {
     "name": "#%% md\n"
    }
   },
   "source": [
    "Вы решили пойти в отпуск на время вашего отсутствия вас будет заменять коллега. Он будет заниматься рассчетом цен для клиентов. Чтобы ему было проще вам нужно завернуть ваши скрипты в модуль, который будет запускать у себя коллега."
   ]
  },
  {
   "cell_type": "markdown",
   "metadata": {
    "pycharm": {
     "name": "#%% md\n"
    }
   },
   "source": [
    "* Создайте модуль, который можно запускать в ноутбуке подкладывая в ту же директорию\n",
    "* Хорошенько задокументируйте ВСЁ, но помните о PEP8"
   ]
  },
  {
   "cell_type": "code",
   "execution_count": null,
   "metadata": {
    "pycharm": {
     "name": "#%%\n"
    }
   },
   "outputs": [],
   "source": [
    "# import yourpackage"
   ]
  },
  {
   "cell_type": "markdown",
   "metadata": {
    "pycharm": {
     "name": "#%% md\n"
    }
   },
   "source": [
    "# Задание 6. Поделись пакетом"
   ]
  },
  {
   "cell_type": "markdown",
   "metadata": {
    "pycharm": {
     "name": "#%% md\n"
    }
   },
   "source": [
    "Ваши коллеги узнали, что вы быстро рассчитываете цены для формульных контрактов, и решили использовать такую же практику для своих продуктов и клиентов. Вам нужно создать пакет, чтобы его было проще устанавливать и использовать."
   ]
  },
  {
   "cell_type": "markdown",
   "metadata": {
    "pycharm": {
     "name": "#%% md\n"
    }
   },
   "source": [
    "* Создайте отдельный пакет, который можно устанавливать с помощью pip \n",
    "* В пакете должны быть реализованы функции для рассчета цен по формульным контрактам\n",
    "* Выложите пакет в репозиторий"
   ]
  },
  {
   "cell_type": "code",
   "execution_count": null,
   "metadata": {
    "pycharm": {
     "name": "#%%\n"
    }
   },
   "outputs": [],
   "source": [
    "# !pip install yourpackage\n",
    "# import yourpackage"
   ]
  }
 ],
 "metadata": {
  "kernelspec": {
   "display_name": "Python 3",
   "language": "python",
   "name": "python3"
  },
  "language_info": {
   "codemirror_mode": {
    "name": "ipython",
    "version": 3
   },
   "file_extension": ".py",
   "mimetype": "text/x-python",
   "name": "python",
   "nbconvert_exporter": "python",
   "pygments_lexer": "ipython3",
   "version": "3.8.5"
  }
 },
 "nbformat": 4,
 "nbformat_minor": 2
}