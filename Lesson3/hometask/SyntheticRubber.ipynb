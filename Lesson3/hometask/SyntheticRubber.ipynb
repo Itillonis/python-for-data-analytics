{
 "cells": [
  {
   "cell_type": "markdown",
   "source": [
    "[![Open In Colab](https://colab.research.google.com/assets/colab-badge.svg)](https://colab.research.google.com/github/da-python/python-for-data-analytics/blob/main/Lesson3/hometask/SyntheticRubber.ipynb)"
   ],
   "metadata": {
    "collapsed": false,
    "pycharm": {
     "name": "#%% md\n"
    }
   }
  },
  {
   "cell_type": "code",
   "execution_count": 2,
   "outputs": [],
   "source": [
    "import requests\n",
    "import yfinance as yf\n",
    "import pandas as pd\n",
    "import matplotlib.pyplot as plt\n",
    "import seaborn; seaborn.set()\n",
    "from bs4 import BeautifulSoup"
   ],
   "metadata": {
    "collapsed": false,
    "pycharm": {
     "name": "#%%\n"
    }
   }
  },
  {
   "cell_type": "code",
   "execution_count": 3,
   "outputs": [],
   "source": [
    "# Для работы с API может потребоваться обходное решение для работы с SSL сертификатом\n",
    "# import ssl\n",
    "# ssl._create_default_https_context = ssl._create_unverified_context"
   ],
   "metadata": {
    "collapsed": false,
    "pycharm": {
     "name": "#%%\n"
    }
   }
  },
  {
   "cell_type": "markdown",
   "metadata": {
    "pycharm": {
     "name": "#%% md\n"
    }
   },
   "source": [
    "# Задание 1.\n",
    "\n",
    "* Вы - менеджер по продажам в нефтехимической компании.\n",
    "* Вы ведете несколько ключевых клиентов, которые закупают продукты вашей компании.\n",
    "* Ваши клиенты предпочитают формульный подход к ценообразованию и вам нужно предложить клиентам формулу цены на синтетический каучук, который может быть альтернативой натуральному каучуку с грейдом SMR 20.\n",
    "* В зависимости от объемов, которые покупают клиенты, им может быть предложена скидка.\n"
   ]
  },
  {
   "cell_type": "code",
   "execution_count": 4,
   "metadata": {
    "pycharm": {
     "name": "#%%\n"
    }
   },
   "outputs": [],
   "source": [
    "# Из данных есть:\n",
    "# Затраты на производство\n",
    "PRODUCTION_COST = 400 # (EUR)\n",
    "\n",
    "# Расходы на логистику\n",
    "EU_LOGISTIC_COST_EUR = 30 # в Европу в евро\n",
    "CN_LOGISTIC_COST_USD = 130 # в Китай в долларах\n",
    "\n",
    "# * Справочная информация по клиентам(объемы, локации, комментарии)\n",
    "# location - локация клиента\n",
    "# volumes - закупаемые объемы\n",
    "# comment - предпочитаемая формула расчета цены - скользящая средняя или среднее значение за месяц\n",
    "\n",
    "customers = {\n",
    "    'Monty':{\n",
    "        'location':'EU',\n",
    "        'volumes':200,\n",
    "        'comment':'moving_average'\n",
    "    },\n",
    "\n",
    "    'Triangle':{\n",
    "        'location':'CN',\n",
    "        'volumes': 30,\n",
    "        'comment': 'monthly'\n",
    "    },\n",
    "    'Stone':{\n",
    "        'location':'EU',\n",
    "        'volumes': 150,\n",
    "        'comment': 'moving_average'\n",
    "    },\n",
    "    'Poly':{\n",
    "        'location':'EU',\n",
    "        'volumes': 70,\n",
    "        'comment': 'monthly'\n",
    "    }\n",
    "}\n",
    "# Скидки\n",
    "discounts = {'up to 100': 0.01, # 1%\n",
    "             'up to 300': 0.05, # 5%\n",
    "             '300 plus': 0.1}   #10%\n"
   ]
  },
  {
   "cell_type": "code",
   "execution_count": 5,
   "metadata": {
    "pycharm": {
     "name": "#%%\n"
    }
   },
   "outputs": [
    {
     "data": {
      "text/plain": "         date   grade  masa       rm      us               tone\n0  2022-05-31  SMR CV  Noon  1157.50  269.20  Slightly steadier\n1  2022-05-31   SMR L  Noon  1147.50  266.90  Slightly steadier\n2  2022-05-31   SMR 5  Noon   740.00  172.10  Slightly steadier\n3  2022-05-31  SMR GP  Noon   737.00  171.40  Slightly steadier\n4  2022-05-31  SMR 10  Noon   730.00  169.80  Slightly steadier",
      "text/html": "<div>\n<style scoped>\n    .dataframe tbody tr th:only-of-type {\n        vertical-align: middle;\n    }\n\n    .dataframe tbody tr th {\n        vertical-align: top;\n    }\n\n    .dataframe thead th {\n        text-align: right;\n    }\n</style>\n<table border=\"1\" class=\"dataframe\">\n  <thead>\n    <tr style=\"text-align: right;\">\n      <th></th>\n      <th>date</th>\n      <th>grade</th>\n      <th>masa</th>\n      <th>rm</th>\n      <th>us</th>\n      <th>tone</th>\n    </tr>\n  </thead>\n  <tbody>\n    <tr>\n      <th>0</th>\n      <td>2022-05-31</td>\n      <td>SMR CV</td>\n      <td>Noon</td>\n      <td>1157.50</td>\n      <td>269.20</td>\n      <td>Slightly steadier</td>\n    </tr>\n    <tr>\n      <th>1</th>\n      <td>2022-05-31</td>\n      <td>SMR L</td>\n      <td>Noon</td>\n      <td>1147.50</td>\n      <td>266.90</td>\n      <td>Slightly steadier</td>\n    </tr>\n    <tr>\n      <th>2</th>\n      <td>2022-05-31</td>\n      <td>SMR 5</td>\n      <td>Noon</td>\n      <td>740.00</td>\n      <td>172.10</td>\n      <td>Slightly steadier</td>\n    </tr>\n    <tr>\n      <th>3</th>\n      <td>2022-05-31</td>\n      <td>SMR GP</td>\n      <td>Noon</td>\n      <td>737.00</td>\n      <td>171.40</td>\n      <td>Slightly steadier</td>\n    </tr>\n    <tr>\n      <th>4</th>\n      <td>2022-05-31</td>\n      <td>SMR 10</td>\n      <td>Noon</td>\n      <td>730.00</td>\n      <td>169.80</td>\n      <td>Slightly steadier</td>\n    </tr>\n  </tbody>\n</table>\n</div>"
     },
     "execution_count": 5,
     "metadata": {},
     "output_type": "execute_result"
    }
   ],
   "source": [
    "# Котировки натурального каучука доступны на сайте,  https://www.lgm.gov.my\n",
    "# также у них есть API, пример запроса ниже\n",
    "#\n",
    "year = '2022'\n",
    "month = '05'\n",
    "url = f\"https://www.lgm.gov.my/webv2api/api/rubberprice/month={month}&year={year}\"\n",
    "res = requests.get(url)\n",
    "rj = res.json()\n",
    "df = pd.json_normalize(rj)\n",
    "df.head()"
   ]
  },
  {
   "cell_type": "markdown",
   "source": [
    "### Что нужно сделать?\n",
    "\n",
    "1. Проанализировать имеющиеся данные.\n",
    "2. Определить базовую формулу цены на условиях FCA (цена на заводе). То есть как бы выглядела цена на исторических данных.\n",
    "3. Отобразить на графике.\n",
    "4. Сделать расчет возможной цены по формуле для каждого из клиентов на условиях DDP (цена с доставкой). Записать все в один эксель файл, на разных листах. Каждый лист - название клиента.\n",
    "5. Предложить формулу цены каждому из клиентов на условиях DDP (цена с доставкой).\n",
    "- Создать директорию «для клиентов» и в ней сложить  файлы с расчетами.\n",
    "- Каждый клиент - отдельный файл (любой из docx, xlsx, pptx, pdf)  с именем клиента…\n",
    "\n",
    "### В результате должно быть 3 файла:\n",
    "1. Ноутбук с расчетами и графиками.\n",
    "2. Скрипт, который делает расчет цены для каждого клиента в одном файле\n",
    "2. Скрипт, который делает расчет цены для каждого клиента в отельном файле"
   ],
   "metadata": {
    "collapsed": false,
    "pycharm": {
     "name": "#%% md\n"
    }
   }
  },
  {
   "cell_type": "markdown",
   "metadata": {
    "pycharm": {
     "name": "#%% md\n"
    }
   },
   "source": [
    "# Задание 2. Продолжение"
   ]
  },
  {
   "cell_type": "markdown",
   "metadata": {
    "pycharm": {
     "name": "#%% md\n"
    }
   },
   "source": [
    "Клиенты согласились на ваше предложение. \n",
    "Вам нужно сделать написать скрипт, с помощью которого можно автоматом рассчитывать цены для всех клиентов одновременно. \n",
    "Важный момент: данные для расчета скрипт должен подтягивать сам.\n",
    "\n",
    "В результате должно быть 3 файла\n",
    "1. Ноутбук с расчетами и графиками (чтобы данные подтягивались туда)\n",
    "2. Скрипт, который делает расчет цены для клиента (чтобы данные подтягивались туда сами)"
   ]
  },
  {
   "cell_type": "code",
   "execution_count": 4,
   "metadata": {
    "pycharm": {
     "name": "#%%\n"
    }
   },
   "outputs": [],
   "source": [
    "# "
   ]
  },
  {
   "cell_type": "markdown",
   "metadata": {
    "pycharm": {
     "name": "#%% md\n"
    }
   },
   "source": [
    "# Задание 3. Back to Russia\n",
    "\n",
    "К вам пришел новый клиент из России, он готов регулярно закупать синтетический каучук. Клиент готов забирать ВБП с завода самостоятельно.\n",
    "1. На основе тех данных, которые уже есть предложите цену новому клиенту. \n",
    "2. Подготовьте скрипт, который будет использовать курс публикуемый на <a href='http://www.cbr.ru/currency_base/dynamics/'> сайте ЦБ РФ</a> или из любого другого источника.\n"
   ]
  },
  {
   "cell_type": "code",
   "execution_count": 5,
   "metadata": {
    "pycharm": {
     "name": "#%%\n"
    }
   },
   "outputs": [],
   "source": [
    "# "
   ]
  },
  {
   "cell_type": "markdown",
   "metadata": {
    "pycharm": {
     "name": "#%% md\n"
    }
   },
   "source": [
    "# Задание 4. Check it"
   ]
  },
  {
   "cell_type": "markdown",
   "metadata": {
    "pycharm": {
     "name": "#%% md\n"
    }
   },
   "source": [
    "* Подумайте, как можно проверить корректность работы алгоритма? \n",
    "* Какие возможны ошибки?\n",
    "* Придумайте тесты для проверки возможных ошибок алгоритма\n",
    "* Интергрируйте их в свои скрипты в виде исключений\n"
   ]
  },
  {
   "cell_type": "code",
   "execution_count": 6,
   "metadata": {
    "pycharm": {
     "name": "#%%\n"
    }
   },
   "outputs": [],
   "source": [
    "# "
   ]
  },
  {
   "cell_type": "markdown",
   "metadata": {
    "pycharm": {
     "name": "#%% md\n"
    }
   },
   "source": [
    "# Задание 5. Поделись с ближним"
   ]
  },
  {
   "cell_type": "markdown",
   "metadata": {
    "pycharm": {
     "name": "#%% md\n"
    }
   },
   "source": [
    "Вы решили пойти в отпуск на время вашего отсутствия вас будет заменять коллега. Он будет заниматься рассчетом цен для клиентов. Чтобы ему было проще вам нужно завернуть ваши скрипты в модуль, который будет запускать у себя коллега."
   ]
  },
  {
   "cell_type": "markdown",
   "metadata": {
    "pycharm": {
     "name": "#%% md\n"
    }
   },
   "source": [
    "* Создайте модуль, который можно запускать в ноутбуке подкладывая в ту же директорию\n",
    "* Хорошенько задокументируйте ВСЁ, но помните о PEP8"
   ]
  },
  {
   "cell_type": "code",
   "execution_count": 7,
   "metadata": {
    "pycharm": {
     "name": "#%%\n"
    }
   },
   "outputs": [],
   "source": [
    "# import yourpackage"
   ]
  },
  {
   "cell_type": "markdown",
   "metadata": {
    "pycharm": {
     "name": "#%% md\n"
    }
   },
   "source": [
    "# Задание 6. Поделись пакетом"
   ]
  },
  {
   "cell_type": "markdown",
   "metadata": {
    "pycharm": {
     "name": "#%% md\n"
    }
   },
   "source": [
    "Ваши коллеги узнали, что вы быстро рассчитываете цены для формульных контрактов, и решили использовать такую же практику для своих продуктов и клиентов. Вам нужно создать пакет, чтобы его было проще устанавливать и использовать."
   ]
  },
  {
   "cell_type": "markdown",
   "metadata": {
    "pycharm": {
     "name": "#%% md\n"
    }
   },
   "source": [
    "* Создайте отдельный пакет, который можно устанавливать с помощью pip \n",
    "* В пакете должны быть реализованы функции для рассчета цен по формульным контрактам\n",
    "* Выложите пакет в репозиторий"
   ]
  },
  {
   "cell_type": "code",
   "execution_count": null,
   "metadata": {
    "pycharm": {
     "name": "#%%\n"
    }
   },
   "outputs": [],
   "source": [
    "# !pip install yourpackage\n",
    "# import yourpackage"
   ]
  }
 ],
 "metadata": {
  "kernelspec": {
   "display_name": "Python 3",
   "language": "python",
   "name": "python3"
  },
  "language_info": {
   "codemirror_mode": {
    "name": "ipython",
    "version": 3
   },
   "file_extension": ".py",
   "mimetype": "text/x-python",
   "name": "python",
   "nbconvert_exporter": "python",
   "pygments_lexer": "ipython3",
   "version": "3.8.5"
  }
 },
 "nbformat": 4,
 "nbformat_minor": 2
}