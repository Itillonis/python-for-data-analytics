{
 "cells": [
  {
   "cell_type": "code",
   "execution_count": 2,
   "outputs": [],
   "source": [
    "from price_calculation_mod import calculate_prices"
   ],
   "metadata": {
    "collapsed": false,
    "pycharm": {
     "name": "#%%\n"
    }
   }
  },
  {
   "cell_type": "code",
   "execution_count": 3,
   "outputs": [
    {
     "name": "stdout",
     "output_type": "stream",
     "text": [
      "Подгружаем котировки и курсы\n"
     ]
    },
    {
     "data": {
      "text/plain": "  0%|          | 0/4 [00:00<?, ?it/s]",
      "application/vnd.jupyter.widget-view+json": {
       "version_major": 2,
       "version_minor": 0,
       "model_id": "87b119022cf847429a0c6af29bdfa52b"
      }
     },
     "metadata": {},
     "output_type": "display_data"
    },
    {
     "name": "stdout",
     "output_type": "stream",
     "text": [
      "Рассчитываем цены\n",
      "Готовим отдельный файл для клиентов\n",
      "Date\n",
      "2019-06-30        NaN\n",
      "2019-07-31        NaN\n",
      "2019-08-31    1132.11\n",
      "2019-09-30    1147.80\n",
      "2019-10-31    1136.39\n",
      "Freq: M, Name: MWP_PRICE_EUR_EU_MA, dtype: float64\n",
      "Monty готов\n",
      "Date\n",
      "2019-06-30    1572.34\n",
      "2019-07-31    1614.82\n",
      "2019-08-31    1568.24\n",
      "2019-09-30    1597.20\n",
      "2019-10-31    1551.67\n",
      "Freq: M, Name: MWP_PRICE_USD_CN, dtype: float64\n",
      "Triangle готов\n",
      "Date\n",
      "2019-06-30        NaN\n",
      "2019-07-31        NaN\n",
      "2019-08-31    1193.34\n",
      "2019-09-30    1209.90\n",
      "2019-10-31    1197.86\n",
      "Freq: M, Name: MWP_PRICE_EUR_EU_MA, dtype: float64\n",
      "Stone готов\n",
      "Date\n",
      "2019-06-30    1223.24\n",
      "2019-07-31    1267.63\n",
      "2019-08-31    1236.12\n",
      "2019-09-30    1275.00\n",
      "2019-10-31    1229.98\n",
      "Freq: M, Name: MWP_PRICE_EUR_EU, dtype: float64\n",
      "Poly готов\n",
      "Удаляем ненужные файлы\n",
      "Работа завершена!\n"
     ]
    }
   ],
   "source": [
    "calculate_prices()"
   ],
   "metadata": {
    "collapsed": false,
    "pycharm": {
     "name": "#%%\n"
    }
   }
  },
  {
   "cell_type": "code",
   "execution_count": null,
   "outputs": [],
   "source": [],
   "metadata": {
    "collapsed": false,
    "pycharm": {
     "name": "#%%\n"
    }
   }
  }
 ],
 "metadata": {
  "kernelspec": {
   "display_name": "Python 3",
   "language": "python",
   "name": "python3"
  },
  "language_info": {
   "codemirror_mode": {
    "name": "ipython",
    "version": 2
   },
   "file_extension": ".py",
   "mimetype": "text/x-python",
   "name": "python",
   "nbconvert_exporter": "python",
   "pygments_lexer": "ipython2",
   "version": "2.7.6"
  }
 },
 "nbformat": 4,
 "nbformat_minor": 0
}